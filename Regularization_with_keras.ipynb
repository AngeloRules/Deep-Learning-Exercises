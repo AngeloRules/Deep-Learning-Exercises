{
  "nbformat": 4,
  "nbformat_minor": 0,
  "metadata": {
    "colab": {
      "provenance": []
    },
    "kernelspec": {
      "name": "python3",
      "display_name": "Python 3"
    },
    "language_info": {
      "name": "python"
    },
    "accelerator": "GPU"
  },
  "cells": [
    {
      "cell_type": "code",
      "execution_count": null,
      "metadata": {
        "id": "kM_SETkXTrsN"
      },
      "outputs": [],
      "source": [
        "import tensorflow as tf\n",
        "from tensorflow import keras"
      ]
    },
    {
      "cell_type": "code",
      "source": [
        "from tensorflow.keras import layers\n",
        "from tensorflow.keras.datasets import cifar10"
      ],
      "metadata": {
        "id": "CtKimINxfAxP"
      },
      "execution_count": null,
      "outputs": []
    },
    {
      "cell_type": "code",
      "source": [
        "(x_train,y_train),(x_test,y_test) = cifar10.load_data()"
      ],
      "metadata": {
        "colab": {
          "base_uri": "https://localhost:8080/"
        },
        "id": "5DTAQG7JfQ36",
        "outputId": "81ebf5e5-6303-474d-9709-de988a4db7f2"
      },
      "execution_count": null,
      "outputs": [
        {
          "output_type": "stream",
          "name": "stdout",
          "text": [
            "Downloading data from https://www.cs.toronto.edu/~kriz/cifar-10-python.tar.gz\n",
            "170500096/170498071 [==============================] - 15s 0us/step\n",
            "170508288/170498071 [==============================] - 15s 0us/step\n"
          ]
        }
      ]
    },
    {
      "cell_type": "code",
      "source": [
        "x_train = x_train.astype('float32')/255.0\n",
        "x_test = x_test.astype('float32')/255.0"
      ],
      "metadata": {
        "id": "23X6x80egTEU"
      },
      "execution_count": null,
      "outputs": []
    },
    {
      "cell_type": "code",
      "source": [
        "model = keras.Sequential(\n",
        "  [\n",
        "      keras.Input(shape=(32,32,3)),\n",
        "      layers.Conv2D(filters=32,padding='valid',kernel_size=(3,3),activation='relu'),\n",
        "      layers.MaxPooling2D(pool_size=(2,2)),\n",
        "      layers.Conv2D(filters=64,padding='valid',kernel_size=(3,3),activation='relu'),\n",
        "      layers.MaxPooling2D(),\n",
        "      layers.Conv2D(filters=128,padding='valid',kernel_size=(3,3),activation='relu'),\n",
        "      layers.Flatten(),\n",
        "      layers.Dense(64,activation='relu'),\n",
        "      layers.Dense(10)\n",
        "  ]\n",
        ")\n",
        "\n",
        "model.summary()"
      ],
      "metadata": {
        "colab": {
          "base_uri": "https://localhost:8080/"
        },
        "id": "CiPAAptFgyPS",
        "outputId": "fc64b9b4-fd6b-4b58-d2e1-80e88e463592"
      },
      "execution_count": null,
      "outputs": [
        {
          "output_type": "stream",
          "name": "stdout",
          "text": [
            "Model: \"sequential_1\"\n",
            "_________________________________________________________________\n",
            " Layer (type)                Output Shape              Param #   \n",
            "=================================================================\n",
            " conv2d_1 (Conv2D)           (None, 30, 30, 32)        896       \n",
            "                                                                 \n",
            " max_pooling2d_1 (MaxPooling  (None, 15, 15, 32)       0         \n",
            " 2D)                                                             \n",
            "                                                                 \n",
            " conv2d_2 (Conv2D)           (None, 13, 13, 64)        18496     \n",
            "                                                                 \n",
            " max_pooling2d_2 (MaxPooling  (None, 6, 6, 64)         0         \n",
            " 2D)                                                             \n",
            "                                                                 \n",
            " conv2d_3 (Conv2D)           (None, 4, 4, 128)         73856     \n",
            "                                                                 \n",
            " flatten (Flatten)           (None, 2048)              0         \n",
            "                                                                 \n",
            " dense (Dense)               (None, 64)                131136    \n",
            "                                                                 \n",
            " dense_1 (Dense)             (None, 10)                650       \n",
            "                                                                 \n",
            "=================================================================\n",
            "Total params: 225,034\n",
            "Trainable params: 225,034\n",
            "Non-trainable params: 0\n",
            "_________________________________________________________________\n"
          ]
        }
      ]
    },
    {
      "cell_type": "code",
      "source": [
        "# METRICS = [\n",
        "#     tf.keras.metrics.SparseCategoricalCrossentropy(name='accuracy'),\n",
        "#     #tf.keras.metrics.Precision(name='precision'),\n",
        "#     #tf.keras.metrics.Recall(name='recall')\n",
        "# ]\n",
        "model.compile(\n",
        "    loss=keras.losses.SparseCategoricalCrossentropy(from_logits=True),\n",
        "    metrics=['accuracy'],\n",
        "    optimizer='adam'\n",
        ")\n",
        "\n",
        "model.fit(x_train,y_train,epochs=10,verbose=2,batch_size=64)"
      ],
      "metadata": {
        "colab": {
          "base_uri": "https://localhost:8080/"
        },
        "id": "SO0wpCkViHRC",
        "outputId": "9c97426a-c67d-4b55-b30a-77572e97090b"
      },
      "execution_count": 17,
      "outputs": [
        {
          "output_type": "stream",
          "name": "stdout",
          "text": [
            "Epoch 1/10\n"
          ]
        },
        {
          "output_type": "stream",
          "name": "stderr",
          "text": [
            "/usr/local/lib/python3.7/dist-packages/tensorflow/python/util/dispatch.py:1082: UserWarning: \"`sparse_categorical_crossentropy` received `from_logits=True`, but the `output` argument was produced by a sigmoid or softmax activation and thus does not represent logits. Was this intended?\"\n",
            "  return dispatch_target(*args, **kwargs)\n"
          ]
        },
        {
          "output_type": "stream",
          "name": "stdout",
          "text": [
            "782/782 - 4s - loss: 0.1692 - accuracy: 0.9402 - 4s/epoch - 4ms/step\n",
            "Epoch 2/10\n",
            "782/782 - 3s - loss: 0.1512 - accuracy: 0.9463 - 3s/epoch - 4ms/step\n",
            "Epoch 3/10\n",
            "782/782 - 3s - loss: 0.1427 - accuracy: 0.9498 - 3s/epoch - 4ms/step\n",
            "Epoch 4/10\n",
            "782/782 - 4s - loss: 0.1281 - accuracy: 0.9550 - 4s/epoch - 5ms/step\n",
            "Epoch 5/10\n",
            "782/782 - 4s - loss: 0.1322 - accuracy: 0.9527 - 4s/epoch - 5ms/step\n",
            "Epoch 6/10\n",
            "782/782 - 3s - loss: 0.1227 - accuracy: 0.9561 - 3s/epoch - 4ms/step\n",
            "Epoch 7/10\n",
            "782/782 - 3s - loss: 0.1131 - accuracy: 0.9601 - 3s/epoch - 4ms/step\n",
            "Epoch 8/10\n",
            "782/782 - 3s - loss: 0.0989 - accuracy: 0.9649 - 3s/epoch - 4ms/step\n",
            "Epoch 9/10\n",
            "782/782 - 3s - loss: 0.1072 - accuracy: 0.9624 - 3s/epoch - 4ms/step\n",
            "Epoch 10/10\n",
            "782/782 - 3s - loss: 0.0997 - accuracy: 0.9649 - 3s/epoch - 4ms/step\n"
          ]
        },
        {
          "output_type": "execute_result",
          "data": {
            "text/plain": [
              "<keras.callbacks.History at 0x7f3f00113ad0>"
            ]
          },
          "metadata": {},
          "execution_count": 17
        }
      ]
    },
    {
      "cell_type": "code",
      "source": [
        "model.evaluate(x_test,y_test)"
      ],
      "metadata": {
        "id": "Ub2Fj_MJkRlU",
        "colab": {
          "base_uri": "https://localhost:8080/"
        },
        "outputId": "4ce8ca82-e5d5-4c4e-ee43-27d96e3f4413"
      },
      "execution_count": 18,
      "outputs": [
        {
          "output_type": "stream",
          "name": "stdout",
          "text": [
            " 17/313 [>.............................] - ETA: 0s - loss: 1.8860 - accuracy: 0.7206  "
          ]
        },
        {
          "output_type": "stream",
          "name": "stderr",
          "text": [
            "/usr/local/lib/python3.7/dist-packages/tensorflow/python/util/dispatch.py:1082: UserWarning: \"`sparse_categorical_crossentropy` received `from_logits=True`, but the `output` argument was produced by a sigmoid or softmax activation and thus does not represent logits. Was this intended?\"\n",
            "  return dispatch_target(*args, **kwargs)\n"
          ]
        },
        {
          "output_type": "stream",
          "name": "stdout",
          "text": [
            "313/313 [==============================] - 1s 3ms/step - loss: 2.0255 - accuracy: 0.7042\n"
          ]
        },
        {
          "output_type": "execute_result",
          "data": {
            "text/plain": [
              "[2.025545120239258, 0.704200029373169]"
            ]
          },
          "metadata": {},
          "execution_count": 18
        }
      ]
    },
    {
      "cell_type": "markdown",
      "source": [
        "**With The Functional API**"
      ],
      "metadata": {
        "id": "fSB-5C3UnyNI"
      }
    },
    {
      "cell_type": "code",
      "source": [
        "def model():\n",
        "  inputs = keras.Input(shape=(32,32,3))\n",
        "  x = layers.Conv2D(32,3,kernel_regularizer=keras.regularizers.l2(0.01))(inputs)\n",
        "  x = layers.BatchNormalization()(x)\n",
        "  x = keras.activations.relu(x)\n",
        "  x = layers.MaxPooling2D()(x)\n",
        "  x = layers.Conv2D(64,5,kernel_regularizer=keras.regularizers.l2(0.01),padding='same')(x)\n",
        "  x = layers.BatchNormalization()(x)\n",
        "  x = keras.activations.relu(x)\n",
        "  x = layers.Conv2D(128,3,kernel_regularizer=keras.regularizers.l2(0.01))(x)\n",
        "  x = layers.BatchNormalization()(x)\n",
        "  x = keras.activations.relu(x)\n",
        "  x = layers.Flatten()(x)\n",
        "  x = layers.Dense(64, activation='relu',kernel_regularizer=keras.regularizers.l2(0.01))(x)\n",
        "  outputs = layers.Dense(10)(x)\n",
        "  model = keras.Model(inputs=inputs,outputs=outputs)\n",
        "  return model"
      ],
      "metadata": {
        "id": "Sj3WT99dn7HH"
      },
      "execution_count": 43,
      "outputs": []
    },
    {
      "cell_type": "code",
      "source": [
        "model = model()"
      ],
      "metadata": {
        "id": "UjbrIcRirJwc"
      },
      "execution_count": 44,
      "outputs": []
    },
    {
      "cell_type": "code",
      "source": [
        "model.summary()"
      ],
      "metadata": {
        "colab": {
          "base_uri": "https://localhost:8080/"
        },
        "id": "9Fe4VqYlrLwT",
        "outputId": "a103a44b-60d6-49b9-80b2-cb799a635e07"
      },
      "execution_count": 45,
      "outputs": [
        {
          "output_type": "stream",
          "name": "stdout",
          "text": [
            "Model: \"model_4\"\n",
            "_________________________________________________________________\n",
            " Layer (type)                Output Shape              Param #   \n",
            "=================================================================\n",
            " input_10 (InputLayer)       [(None, 32, 32, 3)]       0         \n",
            "                                                                 \n",
            " conv2d_16 (Conv2D)          (None, 30, 30, 32)        896       \n",
            "                                                                 \n",
            " batch_normalization_12 (Bat  (None, 30, 30, 32)       128       \n",
            " chNormalization)                                                \n",
            "                                                                 \n",
            " tf.nn.relu_12 (TFOpLambda)  (None, 30, 30, 32)        0         \n",
            "                                                                 \n",
            " max_pooling2d_7 (MaxPooling  (None, 15, 15, 32)       0         \n",
            " 2D)                                                             \n",
            "                                                                 \n",
            " conv2d_17 (Conv2D)          (None, 15, 15, 64)        51264     \n",
            "                                                                 \n",
            " batch_normalization_13 (Bat  (None, 15, 15, 64)       256       \n",
            " chNormalization)                                                \n",
            "                                                                 \n",
            " tf.nn.relu_13 (TFOpLambda)  (None, 15, 15, 64)        0         \n",
            "                                                                 \n",
            " conv2d_18 (Conv2D)          (None, 13, 13, 128)       73856     \n",
            "                                                                 \n",
            " batch_normalization_14 (Bat  (None, 13, 13, 128)      512       \n",
            " chNormalization)                                                \n",
            "                                                                 \n",
            " tf.nn.relu_14 (TFOpLambda)  (None, 13, 13, 128)       0         \n",
            "                                                                 \n",
            " flatten_5 (Flatten)         (None, 21632)             0         \n",
            "                                                                 \n",
            " dense_10 (Dense)            (None, 64)                1384512   \n",
            "                                                                 \n",
            " dense_11 (Dense)            (None, 10)                650       \n",
            "                                                                 \n",
            "=================================================================\n",
            "Total params: 1,512,074\n",
            "Trainable params: 1,511,626\n",
            "Non-trainable params: 448\n",
            "_________________________________________________________________\n"
          ]
        }
      ]
    },
    {
      "cell_type": "code",
      "source": [
        "model.compile(\n",
        "    loss=keras.losses.SparseCategoricalCrossentropy(from_logits=True),\n",
        "    metrics=['accuracy'],\n",
        "    optimizer='adam'\n",
        ")\n",
        "\n",
        "model.fit(x_train,y_train,epochs=100,verbose=2,batch_size=64)"
      ],
      "metadata": {
        "colab": {
          "base_uri": "https://localhost:8080/",
          "height": 1000
        },
        "id": "x5SuG6oarRGY",
        "outputId": "a739161a-c880-4ac5-87ee-6f89d9029b4d"
      },
      "execution_count": 48,
      "outputs": [
        {
          "output_type": "stream",
          "name": "stdout",
          "text": [
            "Epoch 1/100\n",
            "782/782 - 6s - loss: 1.6667 - accuracy: 0.3543 - 6s/epoch - 7ms/step\n",
            "Epoch 2/100\n",
            "782/782 - 5s - loss: 1.6606 - accuracy: 0.3550 - 5s/epoch - 6ms/step\n",
            "Epoch 3/100\n",
            "782/782 - 5s - loss: 1.6556 - accuracy: 0.3544 - 5s/epoch - 6ms/step\n",
            "Epoch 4/100\n",
            "782/782 - 5s - loss: 1.6644 - accuracy: 0.3550 - 5s/epoch - 6ms/step\n",
            "Epoch 5/100\n",
            "782/782 - 5s - loss: 1.6633 - accuracy: 0.3539 - 5s/epoch - 6ms/step\n",
            "Epoch 6/100\n",
            "782/782 - 5s - loss: 1.6566 - accuracy: 0.3596 - 5s/epoch - 6ms/step\n",
            "Epoch 7/100\n",
            "782/782 - 5s - loss: 1.6555 - accuracy: 0.3565 - 5s/epoch - 6ms/step\n",
            "Epoch 8/100\n",
            "782/782 - 5s - loss: 1.6608 - accuracy: 0.3560 - 5s/epoch - 6ms/step\n",
            "Epoch 9/100\n",
            "782/782 - 5s - loss: 1.6542 - accuracy: 0.3557 - 5s/epoch - 6ms/step\n",
            "Epoch 10/100\n",
            "782/782 - 5s - loss: 1.6513 - accuracy: 0.3594 - 5s/epoch - 6ms/step\n",
            "Epoch 11/100\n",
            "782/782 - 5s - loss: 1.6557 - accuracy: 0.3565 - 5s/epoch - 6ms/step\n",
            "Epoch 12/100\n",
            "782/782 - 5s - loss: 1.6570 - accuracy: 0.3542 - 5s/epoch - 6ms/step\n",
            "Epoch 13/100\n",
            "782/782 - 5s - loss: 1.6517 - accuracy: 0.3589 - 5s/epoch - 6ms/step\n",
            "Epoch 14/100\n",
            "782/782 - 5s - loss: 1.6594 - accuracy: 0.3566 - 5s/epoch - 6ms/step\n",
            "Epoch 15/100\n",
            "782/782 - 5s - loss: 1.6612 - accuracy: 0.3542 - 5s/epoch - 6ms/step\n",
            "Epoch 16/100\n",
            "782/782 - 5s - loss: 1.6558 - accuracy: 0.3571 - 5s/epoch - 6ms/step\n",
            "Epoch 17/100\n",
            "782/782 - 5s - loss: 1.6568 - accuracy: 0.3584 - 5s/epoch - 7ms/step\n",
            "Epoch 18/100\n",
            "782/782 - 5s - loss: 1.6573 - accuracy: 0.3568 - 5s/epoch - 7ms/step\n",
            "Epoch 19/100\n",
            "782/782 - 5s - loss: 1.6572 - accuracy: 0.3558 - 5s/epoch - 7ms/step\n",
            "Epoch 20/100\n",
            "782/782 - 5s - loss: 1.6469 - accuracy: 0.3589 - 5s/epoch - 7ms/step\n",
            "Epoch 21/100\n",
            "782/782 - 5s - loss: 1.6569 - accuracy: 0.3568 - 5s/epoch - 7ms/step\n",
            "Epoch 22/100\n",
            "782/782 - 5s - loss: 1.6532 - accuracy: 0.3590 - 5s/epoch - 7ms/step\n",
            "Epoch 23/100\n",
            "782/782 - 5s - loss: 1.6560 - accuracy: 0.3548 - 5s/epoch - 7ms/step\n",
            "Epoch 24/100\n",
            "782/782 - 5s - loss: 1.6581 - accuracy: 0.3593 - 5s/epoch - 7ms/step\n",
            "Epoch 25/100\n",
            "782/782 - 5s - loss: 1.6546 - accuracy: 0.3574 - 5s/epoch - 7ms/step\n",
            "Epoch 26/100\n",
            "782/782 - 5s - loss: 1.6549 - accuracy: 0.3583 - 5s/epoch - 7ms/step\n",
            "Epoch 27/100\n",
            "782/782 - 5s - loss: 1.6543 - accuracy: 0.3585 - 5s/epoch - 7ms/step\n",
            "Epoch 28/100\n",
            "782/782 - 5s - loss: 1.6614 - accuracy: 0.3583 - 5s/epoch - 7ms/step\n",
            "Epoch 29/100\n",
            "782/782 - 5s - loss: 1.6552 - accuracy: 0.3598 - 5s/epoch - 7ms/step\n",
            "Epoch 30/100\n",
            "782/782 - 5s - loss: 1.6516 - accuracy: 0.3566 - 5s/epoch - 6ms/step\n",
            "Epoch 31/100\n",
            "782/782 - 5s - loss: 1.6572 - accuracy: 0.3585 - 5s/epoch - 7ms/step\n",
            "Epoch 32/100\n",
            "782/782 - 5s - loss: 1.6527 - accuracy: 0.3603 - 5s/epoch - 7ms/step\n",
            "Epoch 33/100\n",
            "782/782 - 5s - loss: 1.6523 - accuracy: 0.3592 - 5s/epoch - 7ms/step\n",
            "Epoch 34/100\n",
            "782/782 - 5s - loss: 1.6582 - accuracy: 0.3563 - 5s/epoch - 7ms/step\n",
            "Epoch 35/100\n",
            "782/782 - 5s - loss: 1.6515 - accuracy: 0.3570 - 5s/epoch - 7ms/step\n",
            "Epoch 36/100\n",
            "782/782 - 5s - loss: 1.6526 - accuracy: 0.3586 - 5s/epoch - 7ms/step\n",
            "Epoch 37/100\n",
            "782/782 - 5s - loss: 1.6500 - accuracy: 0.3599 - 5s/epoch - 7ms/step\n",
            "Epoch 38/100\n",
            "782/782 - 5s - loss: 1.6515 - accuracy: 0.3587 - 5s/epoch - 7ms/step\n",
            "Epoch 39/100\n",
            "782/782 - 5s - loss: 1.6547 - accuracy: 0.3577 - 5s/epoch - 7ms/step\n",
            "Epoch 40/100\n",
            "782/782 - 5s - loss: 1.6463 - accuracy: 0.3573 - 5s/epoch - 7ms/step\n",
            "Epoch 41/100\n",
            "782/782 - 5s - loss: 1.6524 - accuracy: 0.3584 - 5s/epoch - 7ms/step\n",
            "Epoch 42/100\n",
            "782/782 - 5s - loss: 1.6564 - accuracy: 0.3570 - 5s/epoch - 7ms/step\n",
            "Epoch 43/100\n",
            "782/782 - 5s - loss: 1.6521 - accuracy: 0.3565 - 5s/epoch - 7ms/step\n",
            "Epoch 44/100\n",
            "782/782 - 5s - loss: 1.6517 - accuracy: 0.3575 - 5s/epoch - 7ms/step\n",
            "Epoch 45/100\n",
            "782/782 - 5s - loss: 1.6506 - accuracy: 0.3579 - 5s/epoch - 7ms/step\n",
            "Epoch 46/100\n",
            "782/782 - 5s - loss: 1.6512 - accuracy: 0.3585 - 5s/epoch - 7ms/step\n",
            "Epoch 47/100\n",
            "782/782 - 5s - loss: 1.6552 - accuracy: 0.3584 - 5s/epoch - 7ms/step\n",
            "Epoch 48/100\n",
            "782/782 - 5s - loss: 1.6479 - accuracy: 0.3575 - 5s/epoch - 7ms/step\n",
            "Epoch 49/100\n",
            "782/782 - 5s - loss: 1.6526 - accuracy: 0.3565 - 5s/epoch - 7ms/step\n",
            "Epoch 50/100\n",
            "782/782 - 5s - loss: 1.6482 - accuracy: 0.3604 - 5s/epoch - 7ms/step\n",
            "Epoch 51/100\n",
            "782/782 - 5s - loss: 1.6510 - accuracy: 0.3584 - 5s/epoch - 7ms/step\n",
            "Epoch 52/100\n",
            "782/782 - 5s - loss: 1.6491 - accuracy: 0.3577 - 5s/epoch - 7ms/step\n",
            "Epoch 53/100\n",
            "782/782 - 5s - loss: 1.6484 - accuracy: 0.3618 - 5s/epoch - 7ms/step\n",
            "Epoch 54/100\n",
            "782/782 - 5s - loss: 1.6521 - accuracy: 0.3597 - 5s/epoch - 7ms/step\n",
            "Epoch 55/100\n",
            "782/782 - 5s - loss: 1.6484 - accuracy: 0.3600 - 5s/epoch - 7ms/step\n",
            "Epoch 56/100\n",
            "782/782 - 5s - loss: 1.6499 - accuracy: 0.3601 - 5s/epoch - 7ms/step\n",
            "Epoch 57/100\n",
            "782/782 - 5s - loss: 1.6511 - accuracy: 0.3598 - 5s/epoch - 7ms/step\n",
            "Epoch 58/100\n",
            "782/782 - 5s - loss: 1.6543 - accuracy: 0.3584 - 5s/epoch - 7ms/step\n",
            "Epoch 59/100\n",
            "782/782 - 5s - loss: 1.6466 - accuracy: 0.3646 - 5s/epoch - 7ms/step\n",
            "Epoch 60/100\n",
            "782/782 - 5s - loss: 1.6495 - accuracy: 0.3617 - 5s/epoch - 7ms/step\n",
            "Epoch 61/100\n",
            "782/782 - 5s - loss: 1.6508 - accuracy: 0.3554 - 5s/epoch - 7ms/step\n",
            "Epoch 62/100\n",
            "782/782 - 5s - loss: 1.6506 - accuracy: 0.3584 - 5s/epoch - 7ms/step\n",
            "Epoch 63/100\n",
            "782/782 - 5s - loss: 1.6478 - accuracy: 0.3575 - 5s/epoch - 7ms/step\n",
            "Epoch 64/100\n",
            "782/782 - 5s - loss: 1.6450 - accuracy: 0.3645 - 5s/epoch - 7ms/step\n",
            "Epoch 65/100\n",
            "782/782 - 5s - loss: 1.6499 - accuracy: 0.3587 - 5s/epoch - 7ms/step\n",
            "Epoch 66/100\n",
            "782/782 - 5s - loss: 1.6479 - accuracy: 0.3603 - 5s/epoch - 7ms/step\n",
            "Epoch 67/100\n",
            "782/782 - 5s - loss: 1.6514 - accuracy: 0.3579 - 5s/epoch - 7ms/step\n",
            "Epoch 68/100\n",
            "782/782 - 5s - loss: 1.6504 - accuracy: 0.3643 - 5s/epoch - 7ms/step\n",
            "Epoch 69/100\n",
            "782/782 - 5s - loss: 1.6470 - accuracy: 0.3596 - 5s/epoch - 7ms/step\n",
            "Epoch 70/100\n"
          ]
        },
        {
          "output_type": "error",
          "ename": "KeyboardInterrupt",
          "evalue": "ignored",
          "traceback": [
            "\u001b[0;31m---------------------------------------------------------------------------\u001b[0m",
            "\u001b[0;31mKeyboardInterrupt\u001b[0m                         Traceback (most recent call last)",
            "\u001b[0;32m<ipython-input-48-e79cdfa44c94>\u001b[0m in \u001b[0;36m<module>\u001b[0;34m\u001b[0m\n\u001b[1;32m      5\u001b[0m )\n\u001b[1;32m      6\u001b[0m \u001b[0;34m\u001b[0m\u001b[0m\n\u001b[0;32m----> 7\u001b[0;31m \u001b[0mmodel\u001b[0m\u001b[0;34m.\u001b[0m\u001b[0mfit\u001b[0m\u001b[0;34m(\u001b[0m\u001b[0mx_train\u001b[0m\u001b[0;34m,\u001b[0m\u001b[0my_train\u001b[0m\u001b[0;34m,\u001b[0m\u001b[0mepochs\u001b[0m\u001b[0;34m=\u001b[0m\u001b[0;36m100\u001b[0m\u001b[0;34m,\u001b[0m\u001b[0mverbose\u001b[0m\u001b[0;34m=\u001b[0m\u001b[0;36m2\u001b[0m\u001b[0;34m,\u001b[0m\u001b[0mbatch_size\u001b[0m\u001b[0;34m=\u001b[0m\u001b[0;36m64\u001b[0m\u001b[0;34m)\u001b[0m\u001b[0;34m\u001b[0m\u001b[0;34m\u001b[0m\u001b[0m\n\u001b[0m",
            "\u001b[0;32m/usr/local/lib/python3.7/dist-packages/keras/utils/traceback_utils.py\u001b[0m in \u001b[0;36merror_handler\u001b[0;34m(*args, **kwargs)\u001b[0m\n\u001b[1;32m     62\u001b[0m     \u001b[0mfiltered_tb\u001b[0m \u001b[0;34m=\u001b[0m \u001b[0;32mNone\u001b[0m\u001b[0;34m\u001b[0m\u001b[0;34m\u001b[0m\u001b[0m\n\u001b[1;32m     63\u001b[0m     \u001b[0;32mtry\u001b[0m\u001b[0;34m:\u001b[0m\u001b[0;34m\u001b[0m\u001b[0;34m\u001b[0m\u001b[0m\n\u001b[0;32m---> 64\u001b[0;31m       \u001b[0;32mreturn\u001b[0m \u001b[0mfn\u001b[0m\u001b[0;34m(\u001b[0m\u001b[0;34m*\u001b[0m\u001b[0margs\u001b[0m\u001b[0;34m,\u001b[0m \u001b[0;34m**\u001b[0m\u001b[0mkwargs\u001b[0m\u001b[0;34m)\u001b[0m\u001b[0;34m\u001b[0m\u001b[0;34m\u001b[0m\u001b[0m\n\u001b[0m\u001b[1;32m     65\u001b[0m     \u001b[0;32mexcept\u001b[0m \u001b[0mException\u001b[0m \u001b[0;32mas\u001b[0m \u001b[0me\u001b[0m\u001b[0;34m:\u001b[0m  \u001b[0;31m# pylint: disable=broad-except\u001b[0m\u001b[0;34m\u001b[0m\u001b[0;34m\u001b[0m\u001b[0m\n\u001b[1;32m     66\u001b[0m       \u001b[0mfiltered_tb\u001b[0m \u001b[0;34m=\u001b[0m \u001b[0m_process_traceback_frames\u001b[0m\u001b[0;34m(\u001b[0m\u001b[0me\u001b[0m\u001b[0;34m.\u001b[0m\u001b[0m__traceback__\u001b[0m\u001b[0;34m)\u001b[0m\u001b[0;34m\u001b[0m\u001b[0;34m\u001b[0m\u001b[0m\n",
            "\u001b[0;32m/usr/local/lib/python3.7/dist-packages/keras/engine/training.py\u001b[0m in \u001b[0;36mfit\u001b[0;34m(self, x, y, batch_size, epochs, verbose, callbacks, validation_split, validation_data, shuffle, class_weight, sample_weight, initial_epoch, steps_per_epoch, validation_steps, validation_batch_size, validation_freq, max_queue_size, workers, use_multiprocessing)\u001b[0m\n\u001b[1;32m   1374\u001b[0m         \u001b[0mcallbacks\u001b[0m\u001b[0;34m.\u001b[0m\u001b[0mon_epoch_begin\u001b[0m\u001b[0;34m(\u001b[0m\u001b[0mepoch\u001b[0m\u001b[0;34m)\u001b[0m\u001b[0;34m\u001b[0m\u001b[0;34m\u001b[0m\u001b[0m\n\u001b[1;32m   1375\u001b[0m         \u001b[0;32mwith\u001b[0m \u001b[0mdata_handler\u001b[0m\u001b[0;34m.\u001b[0m\u001b[0mcatch_stop_iteration\u001b[0m\u001b[0;34m(\u001b[0m\u001b[0;34m)\u001b[0m\u001b[0;34m:\u001b[0m\u001b[0;34m\u001b[0m\u001b[0;34m\u001b[0m\u001b[0m\n\u001b[0;32m-> 1376\u001b[0;31m           \u001b[0;32mfor\u001b[0m \u001b[0mstep\u001b[0m \u001b[0;32min\u001b[0m \u001b[0mdata_handler\u001b[0m\u001b[0;34m.\u001b[0m\u001b[0msteps\u001b[0m\u001b[0;34m(\u001b[0m\u001b[0;34m)\u001b[0m\u001b[0;34m:\u001b[0m\u001b[0;34m\u001b[0m\u001b[0;34m\u001b[0m\u001b[0m\n\u001b[0m\u001b[1;32m   1377\u001b[0m             with tf.profiler.experimental.Trace(\n\u001b[1;32m   1378\u001b[0m                 \u001b[0;34m'train'\u001b[0m\u001b[0;34m,\u001b[0m\u001b[0;34m\u001b[0m\u001b[0;34m\u001b[0m\u001b[0m\n",
            "\u001b[0;32m/usr/local/lib/python3.7/dist-packages/keras/engine/data_adapter.py\u001b[0m in \u001b[0;36msteps\u001b[0;34m(self)\u001b[0m\n\u001b[1;32m   1244\u001b[0m       \u001b[0;32mif\u001b[0m \u001b[0mself\u001b[0m\u001b[0;34m.\u001b[0m\u001b[0m_insufficient_data\u001b[0m\u001b[0;34m:\u001b[0m  \u001b[0;31m# Set by `catch_stop_iteration`.\u001b[0m\u001b[0;34m\u001b[0m\u001b[0;34m\u001b[0m\u001b[0m\n\u001b[1;32m   1245\u001b[0m         \u001b[0;32mbreak\u001b[0m\u001b[0;34m\u001b[0m\u001b[0;34m\u001b[0m\u001b[0m\n\u001b[0;32m-> 1246\u001b[0;31m       \u001b[0moriginal_spe\u001b[0m \u001b[0;34m=\u001b[0m \u001b[0mself\u001b[0m\u001b[0;34m.\u001b[0m\u001b[0m_steps_per_execution\u001b[0m\u001b[0;34m.\u001b[0m\u001b[0mnumpy\u001b[0m\u001b[0;34m(\u001b[0m\u001b[0;34m)\u001b[0m\u001b[0;34m.\u001b[0m\u001b[0mitem\u001b[0m\u001b[0;34m(\u001b[0m\u001b[0;34m)\u001b[0m\u001b[0;34m\u001b[0m\u001b[0;34m\u001b[0m\u001b[0m\n\u001b[0m\u001b[1;32m   1247\u001b[0m       can_run_full_execution = (\n\u001b[1;32m   1248\u001b[0m           \u001b[0moriginal_spe\u001b[0m \u001b[0;34m==\u001b[0m \u001b[0;36m1\u001b[0m \u001b[0;32mor\u001b[0m\u001b[0;34m\u001b[0m\u001b[0;34m\u001b[0m\u001b[0m\n",
            "\u001b[0;32m/usr/local/lib/python3.7/dist-packages/tensorflow/python/ops/resource_variable_ops.py\u001b[0m in \u001b[0;36mnumpy\u001b[0;34m(self)\u001b[0m\n\u001b[1;32m    672\u001b[0m   \u001b[0;32mdef\u001b[0m \u001b[0mnumpy\u001b[0m\u001b[0;34m(\u001b[0m\u001b[0mself\u001b[0m\u001b[0;34m)\u001b[0m\u001b[0;34m:\u001b[0m\u001b[0;34m\u001b[0m\u001b[0;34m\u001b[0m\u001b[0m\n\u001b[1;32m    673\u001b[0m     \u001b[0;32mif\u001b[0m \u001b[0mcontext\u001b[0m\u001b[0;34m.\u001b[0m\u001b[0mexecuting_eagerly\u001b[0m\u001b[0;34m(\u001b[0m\u001b[0;34m)\u001b[0m\u001b[0;34m:\u001b[0m\u001b[0;34m\u001b[0m\u001b[0;34m\u001b[0m\u001b[0m\n\u001b[0;32m--> 674\u001b[0;31m       \u001b[0;32mreturn\u001b[0m \u001b[0mself\u001b[0m\u001b[0;34m.\u001b[0m\u001b[0mread_value\u001b[0m\u001b[0;34m(\u001b[0m\u001b[0;34m)\u001b[0m\u001b[0;34m.\u001b[0m\u001b[0mnumpy\u001b[0m\u001b[0;34m(\u001b[0m\u001b[0;34m)\u001b[0m\u001b[0;34m\u001b[0m\u001b[0;34m\u001b[0m\u001b[0m\n\u001b[0m\u001b[1;32m    675\u001b[0m     raise NotImplementedError(\n\u001b[1;32m    676\u001b[0m         \"numpy() is only available when eager execution is enabled.\")\n",
            "\u001b[0;32m/usr/local/lib/python3.7/dist-packages/tensorflow/python/framework/ops.py\u001b[0m in \u001b[0;36mnumpy\u001b[0;34m(self)\u001b[0m\n\u001b[1;32m   1221\u001b[0m     \"\"\"\n\u001b[1;32m   1222\u001b[0m     \u001b[0;31m# TODO(slebedev): Consider avoiding a copy for non-CPU or remote tensors.\u001b[0m\u001b[0;34m\u001b[0m\u001b[0;34m\u001b[0m\u001b[0;34m\u001b[0m\u001b[0m\n\u001b[0;32m-> 1223\u001b[0;31m     \u001b[0mmaybe_arr\u001b[0m \u001b[0;34m=\u001b[0m \u001b[0mself\u001b[0m\u001b[0;34m.\u001b[0m\u001b[0m_numpy\u001b[0m\u001b[0;34m(\u001b[0m\u001b[0;34m)\u001b[0m  \u001b[0;31m# pylint: disable=protected-access\u001b[0m\u001b[0;34m\u001b[0m\u001b[0;34m\u001b[0m\u001b[0m\n\u001b[0m\u001b[1;32m   1224\u001b[0m     \u001b[0;32mreturn\u001b[0m \u001b[0mmaybe_arr\u001b[0m\u001b[0;34m.\u001b[0m\u001b[0mcopy\u001b[0m\u001b[0;34m(\u001b[0m\u001b[0;34m)\u001b[0m \u001b[0;32mif\u001b[0m \u001b[0misinstance\u001b[0m\u001b[0;34m(\u001b[0m\u001b[0mmaybe_arr\u001b[0m\u001b[0;34m,\u001b[0m \u001b[0mnp\u001b[0m\u001b[0;34m.\u001b[0m\u001b[0mndarray\u001b[0m\u001b[0;34m)\u001b[0m \u001b[0;32melse\u001b[0m \u001b[0mmaybe_arr\u001b[0m\u001b[0;34m\u001b[0m\u001b[0;34m\u001b[0m\u001b[0m\n\u001b[1;32m   1225\u001b[0m \u001b[0;34m\u001b[0m\u001b[0m\n",
            "\u001b[0;32m/usr/local/lib/python3.7/dist-packages/tensorflow/python/framework/ops.py\u001b[0m in \u001b[0;36m_numpy\u001b[0;34m(self)\u001b[0m\n\u001b[1;32m   1187\u001b[0m   \u001b[0;32mdef\u001b[0m \u001b[0m_numpy\u001b[0m\u001b[0;34m(\u001b[0m\u001b[0mself\u001b[0m\u001b[0;34m)\u001b[0m\u001b[0;34m:\u001b[0m\u001b[0;34m\u001b[0m\u001b[0;34m\u001b[0m\u001b[0m\n\u001b[1;32m   1188\u001b[0m     \u001b[0;32mtry\u001b[0m\u001b[0;34m:\u001b[0m\u001b[0;34m\u001b[0m\u001b[0;34m\u001b[0m\u001b[0m\n\u001b[0;32m-> 1189\u001b[0;31m       \u001b[0;32mreturn\u001b[0m \u001b[0mself\u001b[0m\u001b[0;34m.\u001b[0m\u001b[0m_numpy_internal\u001b[0m\u001b[0;34m(\u001b[0m\u001b[0;34m)\u001b[0m\u001b[0;34m\u001b[0m\u001b[0;34m\u001b[0m\u001b[0m\n\u001b[0m\u001b[1;32m   1190\u001b[0m     \u001b[0;32mexcept\u001b[0m \u001b[0mcore\u001b[0m\u001b[0;34m.\u001b[0m\u001b[0m_NotOkStatusException\u001b[0m \u001b[0;32mas\u001b[0m \u001b[0me\u001b[0m\u001b[0;34m:\u001b[0m  \u001b[0;31m# pylint: disable=protected-access\u001b[0m\u001b[0;34m\u001b[0m\u001b[0;34m\u001b[0m\u001b[0m\n\u001b[1;32m   1191\u001b[0m       \u001b[0;32mraise\u001b[0m \u001b[0mcore\u001b[0m\u001b[0;34m.\u001b[0m\u001b[0m_status_to_exception\u001b[0m\u001b[0;34m(\u001b[0m\u001b[0me\u001b[0m\u001b[0;34m)\u001b[0m \u001b[0;32mfrom\u001b[0m \u001b[0;32mNone\u001b[0m  \u001b[0;31m# pylint: disable=protected-access\u001b[0m\u001b[0;34m\u001b[0m\u001b[0;34m\u001b[0m\u001b[0m\n",
            "\u001b[0;31mKeyboardInterrupt\u001b[0m: "
          ]
        }
      ]
    },
    {
      "cell_type": "code",
      "source": [
        "model.evaluate(x_test,y_test)"
      ],
      "metadata": {
        "colab": {
          "base_uri": "https://localhost:8080/"
        },
        "id": "EUEBp_HhrX3c",
        "outputId": "6ac48a52-01cc-4625-9739-cab247d3a704"
      },
      "execution_count": 49,
      "outputs": [
        {
          "output_type": "stream",
          "name": "stdout",
          "text": [
            "313/313 [==============================] - 1s 4ms/step - loss: 2.0063 - accuracy: 0.3081\n"
          ]
        },
        {
          "output_type": "execute_result",
          "data": {
            "text/plain": [
              "[2.0062825679779053, 0.30809998512268066]"
            ]
          },
          "metadata": {},
          "execution_count": 49
        }
      ]
    },
    {
      "cell_type": "code",
      "source": [],
      "metadata": {
        "id": "BVO4ZW2gsLr-"
      },
      "execution_count": null,
      "outputs": []
    }
  ]
}