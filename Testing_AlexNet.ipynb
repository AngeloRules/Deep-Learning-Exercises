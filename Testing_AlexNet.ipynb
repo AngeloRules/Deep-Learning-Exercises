{
  "cells": [
    {
      "cell_type": "code",
      "execution_count": null,
      "id": "d64b2673",
      "metadata": {
        "id": "d64b2673"
      },
      "outputs": [],
      "source": [
        "import numpy as np\n",
        "import pandas as pd\n",
        "import matplotlib.pyplot as plt\n",
        "%matplotlib inline"
      ]
    },
    {
      "cell_type": "code",
      "execution_count": null,
      "id": "38fffd7d",
      "metadata": {
        "id": "38fffd7d"
      },
      "outputs": [],
      "source": [
        "import tensorflow as tf\n",
        "from tensorflow import keras"
      ]
    },
    {
      "cell_type": "code",
      "execution_count": null,
      "id": "efc3d1c5",
      "metadata": {
        "id": "efc3d1c5"
      },
      "outputs": [],
      "source": [
        "from tensorflow.keras import layers"
      ]
    },
    {
      "cell_type": "code",
      "execution_count": null,
      "id": "897c63b6",
      "metadata": {
        "id": "897c63b6"
      },
      "outputs": [],
      "source": [
        "import PIL.Image as Image\n",
        "import cv2\n",
        "import os"
      ]
    },
    {
      "cell_type": "code",
      "execution_count": null,
      "id": "1e37eac4",
      "metadata": {
        "id": "1e37eac4"
      },
      "outputs": [],
      "source": [
        "data_source = 'https://storage.googleapis.com/download.tensorflow.org/example_images/flower_photos.tgz'\n",
        "flowers_data = tf.keras.utils.get_file('flower_photos',origin=data_source,cache_dir='.',untar=True)"
      ]
    },
    {
      "cell_type": "code",
      "execution_count": null,
      "id": "417ffb44",
      "metadata": {
        "id": "417ffb44"
      },
      "outputs": [],
      "source": [
        "import pathlib"
      ]
    },
    {
      "cell_type": "code",
      "execution_count": null,
      "id": "baa0f95e",
      "metadata": {
        "id": "baa0f95e"
      },
      "outputs": [],
      "source": [
        "flowers_data = pathlib.Path(flowers_data)"
      ]
    },
    {
      "cell_type": "code",
      "execution_count": null,
      "id": "6cc8bb29",
      "metadata": {
        "colab": {
          "base_uri": "https://localhost:8080/"
        },
        "id": "6cc8bb29",
        "outputId": "504ae370-b102-4036-deeb-9a00f5a7e36f"
      },
      "outputs": [
        {
          "output_type": "execute_result",
          "data": {
            "text/plain": [
              "3670"
            ]
          },
          "metadata": {},
          "execution_count": 8
        }
      ],
      "source": [
        "len(list(flowers_data.glob('*/*.jpg')))"
      ]
    },
    {
      "cell_type": "code",
      "execution_count": null,
      "id": "82019c3e",
      "metadata": {
        "id": "82019c3e"
      },
      "outputs": [],
      "source": [
        "flower_images_dict = {\n",
        "    'dandelion': list(flowers_data.glob('dandelion/*')),\n",
        "    'roses': list(flowers_data.glob('roses/*')),\n",
        "    'tulips': list(flowers_data.glob('tulips/*')),\n",
        "    'sunflowers': list(flowers_data.glob('sunflowers/*')),\n",
        "    'daisy': list(flowers_data.glob('daisy/*')),\n",
        "}"
      ]
    },
    {
      "cell_type": "code",
      "execution_count": null,
      "id": "a1cc5e94",
      "metadata": {
        "id": "a1cc5e94"
      },
      "outputs": [],
      "source": [
        "flower_dict_labels = {\n",
        "    'dandelion':0,\n",
        "    'roses':1,\n",
        "    'tulips':2,\n",
        "    'sunflowers':3,\n",
        "    'daisy':4\n",
        "}"
      ]
    },
    {
      "cell_type": "code",
      "execution_count": null,
      "id": "335671d0",
      "metadata": {
        "id": "335671d0"
      },
      "outputs": [],
      "source": [
        "x,y = [],[]\n",
        "\n",
        "for flower_name,images in flower_images_dict.items():\n",
        "  for image in images:\n",
        "    img = cv2.imread(str(image))\n",
        "    resized_image = cv2.resize(img,(224,224))\n",
        "    x.append(resized_image)\n",
        "    y.append(flower_dict_labels[flower_name])"
      ]
    },
    {
      "cell_type": "code",
      "execution_count": null,
      "id": "e3b57516",
      "metadata": {
        "id": "e3b57516"
      },
      "outputs": [],
      "source": [
        "from sklearn.model_selection import train_test_split"
      ]
    },
    {
      "cell_type": "code",
      "execution_count": null,
      "id": "5abfffbf",
      "metadata": {
        "id": "5abfffbf"
      },
      "outputs": [],
      "source": [
        "x = np.array(x)\n",
        "y = np.array(y) "
      ]
    },
    {
      "cell_type": "code",
      "execution_count": null,
      "id": "0f940590",
      "metadata": {
        "id": "0f940590"
      },
      "outputs": [],
      "source": [
        "x_train,x_test,y_train,y_test = train_test_split(x,y,test_size=0.2,random_state=0)"
      ]
    },
    {
      "cell_type": "code",
      "execution_count": null,
      "id": "b2eb7e8e",
      "metadata": {
        "id": "b2eb7e8e"
      },
      "outputs": [],
      "source": [
        "x_train_scaled = np.divide(x_train,255)\n",
        "x_test_scaled = np.divide(x_test,255)"
      ]
    },
    {
      "cell_type": "code",
      "source": [
        "class VGGNetLayer1(layers.Layer):\n",
        "\n",
        "    def __init__(self,channels,kernel_size,padding,pool_size,pool_stride,activation='relu',input_shape=''):\n",
        "        super().__init__()\n",
        "        self.conv1 = layers.Conv2D(filters=channels,kernel_size=kernel_size,padding=padding,activation=activation,input_shape=input_shape)\n",
        "        self.conv2 = layers.Conv2D(filters=channels,kernel_size=kernel_size,padding=padding,activation=activation)\n",
        "        self.pool1 = layers.MaxPooling2D(pool_size=pool_size,strides=pool_stride)\n",
        "\n",
        "    def call(self,input_tensor):\n",
        "        x = self.conv1(input_tensor)\n",
        "        x = self.conv2(x)\n",
        "        x = self.pool1(x)\n",
        "        return tf.nn.relu(x)\n",
        "\n",
        "class VGGNetLayer2(layers.Layer):\n",
        "\n",
        "    def __init__(self,channels,kernel_size,padding,pool_size,pool_stride,activation='relu',input_shape=''):\n",
        "        super().__init__()\n",
        "        self.block1 = layers.Conv2D(filters=channels,kernel_size=kernel_size,padding=padding,activation=activation,input_shape=input_shape)\n",
        "        self.block2 = layers.Conv2D(filters=channels,kernel_size=kernel_size,padding=padding,activation=activation)\n",
        "        self.block3 = layers.Conv2D(filters=channels,kernel_size=kernel_size,padding=padding,activation=activation)\n",
        "        self.pool2 = layers.MaxPooling2D(pool_size=pool_size,strides=pool_stride)\n",
        "    \n",
        "    def call(self,input_tensor):\n",
        "        x = self.block1(input_tensor)\n",
        "        x = self.block2(x)\n",
        "        x = self.block3(x)\n",
        "        x = self.pool2(x)\n",
        "        return tf.nn.relu(x)\n",
        "\n",
        "\n",
        "class VGGNet_16(keras.Model):\n",
        "\n",
        "    def __init__(self,num_classes=1000):\n",
        "        super().__init__()\n",
        "        self.layer1 = VGGNetLayer1(input_shape=(224,224,3),channels=64,kernel_size=(3,3),padding='same',activation='relu',pool_size=(2,2),pool_stride=(2,2))\n",
        "        self.layer2 = VGGNetLayer1(input_shape=(),channels=128,kernel_size=(3,3),padding='same',activation='relu',pool_size=(2,2),pool_stride=(2,2))\n",
        "        self.layer3 = VGGNetLayer2(input_shape=(),channels=256,kernel_size=(3,3),padding='same',activation='relu',pool_size=(2,2),pool_stride=(2,2))\n",
        "        self.layer4 = VGGNetLayer2(input_shape=(),channels=512,kernel_size=(3,3),padding='same',activation='relu',pool_size=(2,2),pool_stride=(2,2))\n",
        "        self.layer5 = VGGNetLayer2(input_shape=(),channels=512,kernel_size=(3,3),padding='same',activation='relu',pool_size=(2,2),pool_stride=(2,2))\n",
        "        self.flatten = layers.Flatten()\n",
        "        self.fully_connected1 = layers.Dense(4096,activation='relu')\n",
        "        self.fully_connected2 = layers.Dense(4096,activation='relu')\n",
        "        self.classfier = layers.Dense(num_classes,activation='softmax')\n",
        "\n",
        "    def call(self,input_tensor):\n",
        "        x = self.layer1(input_tensor)\n",
        "        x = self.layer2(x)\n",
        "        x = self.layer3(x)\n",
        "        x = self.layer4(x)\n",
        "        x = self.layer5(x)\n",
        "        x = self.flatten(x)\n",
        "        x = self.fully_connected1(x)\n",
        "        x = self.fully_connected2(x)\n",
        "        return self.classfier(x)"
      ],
      "metadata": {
        "id": "DbWQeUuw7YOl"
      },
      "id": "DbWQeUuw7YOl",
      "execution_count": null,
      "outputs": []
    },
    {
      "cell_type": "code",
      "source": [
        "model = VGGNet_16(num_classes=5)"
      ],
      "metadata": {
        "id": "7KjuiM-b8B6w"
      },
      "id": "7KjuiM-b8B6w",
      "execution_count": null,
      "outputs": []
    },
    {
      "cell_type": "code",
      "source": [
        "model.compile(\n",
        "    optimizer='adam',\n",
        "    metrics =['accuracy'],\n",
        "    loss = tf.keras.losses.SparseCategoricalCrossentropy(from_logits=True)\n",
        ")"
      ],
      "metadata": {
        "id": "ilOtsEGQ8KF2"
      },
      "id": "ilOtsEGQ8KF2",
      "execution_count": null,
      "outputs": []
    },
    {
      "cell_type": "code",
      "source": [
        "model.fit(x_train_scaled,y_train,epochs=1)"
      ],
      "metadata": {
        "colab": {
          "base_uri": "https://localhost:8080/"
        },
        "id": "R4dvzR008QXB",
        "outputId": "4c27a230-b49c-4a19-f98c-0a120ed63b87"
      },
      "id": "R4dvzR008QXB",
      "execution_count": null,
      "outputs": [
        {
          "output_type": "stream",
          "name": "stderr",
          "text": [
            "/usr/local/lib/python3.7/dist-packages/tensorflow/python/util/dispatch.py:1082: UserWarning: \"`sparse_categorical_crossentropy` received `from_logits=True`, but the `output` argument was produced by a sigmoid or softmax activation and thus does not represent logits. Was this intended?\"\n",
            "  return dispatch_target(*args, **kwargs)\n"
          ]
        },
        {
          "output_type": "stream",
          "name": "stdout",
          "text": [
            "92/92 [==============================] - 60s 477ms/step - loss: 1.6154 - accuracy: 0.2302\n"
          ]
        },
        {
          "output_type": "execute_result",
          "data": {
            "text/plain": [
              "<keras.callbacks.History at 0x7f61024edb50>"
            ]
          },
          "metadata": {},
          "execution_count": 19
        }
      ]
    },
    {
      "cell_type": "code",
      "source": [
        "model.summary()"
      ],
      "metadata": {
        "colab": {
          "base_uri": "https://localhost:8080/"
        },
        "id": "7PW7Ae4M2eQV",
        "outputId": "dc3cf78b-9dec-422a-b5b5-783c884a3b2a"
      },
      "id": "7PW7Ae4M2eQV",
      "execution_count": null,
      "outputs": [
        {
          "output_type": "stream",
          "name": "stdout",
          "text": [
            "Model: \"vgg_net_16\"\n",
            "_________________________________________________________________\n",
            " Layer (type)                Output Shape              Param #   \n",
            "=================================================================\n",
            " vgg_net_layer1 (VGGNetLayer  multiple                 38720     \n",
            " 1)                                                              \n",
            "                                                                 \n",
            " vgg_net_layer1_1 (VGGNetLay  multiple                 221440    \n",
            " er1)                                                            \n",
            "                                                                 \n",
            " vgg_net_layer2 (VGGNetLayer  multiple                 1475328   \n",
            " 2)                                                              \n",
            "                                                                 \n",
            " vgg_net_layer2_1 (VGGNetLay  multiple                 5899776   \n",
            " er2)                                                            \n",
            "                                                                 \n",
            " vgg_net_layer2_2 (VGGNetLay  multiple                 7079424   \n",
            " er2)                                                            \n",
            "                                                                 \n",
            " flatten (Flatten)           multiple                  0         \n",
            "                                                                 \n",
            " dense (Dense)               multiple                  102764544 \n",
            "                                                                 \n",
            " dense_1 (Dense)             multiple                  16781312  \n",
            "                                                                 \n",
            " dense_2 (Dense)             multiple                  20485     \n",
            "                                                                 \n",
            "=================================================================\n",
            "Total params: 134,281,029\n",
            "Trainable params: 134,281,029\n",
            "Non-trainable params: 0\n",
            "_________________________________________________________________\n"
          ]
        }
      ]
    },
    {
      "cell_type": "code",
      "source": [],
      "metadata": {
        "id": "UN54iWnf8gBc"
      },
      "id": "UN54iWnf8gBc",
      "execution_count": null,
      "outputs": []
    }
  ],
  "metadata": {
    "kernelspec": {
      "display_name": "Python 3 (ipykernel)",
      "language": "python",
      "name": "python3"
    },
    "language_info": {
      "codemirror_mode": {
        "name": "ipython",
        "version": 3
      },
      "file_extension": ".py",
      "mimetype": "text/x-python",
      "name": "python",
      "nbconvert_exporter": "python",
      "pygments_lexer": "ipython3",
      "version": "3.10.4"
    },
    "colab": {
      "provenance": []
    },
    "accelerator": "GPU",
    "gpuClass": "standard"
  },
  "nbformat": 4,
  "nbformat_minor": 5
}