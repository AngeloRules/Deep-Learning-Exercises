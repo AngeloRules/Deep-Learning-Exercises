{
 "cells": [
  {
   "cell_type": "code",
   "execution_count": 3,
   "metadata": {
    "colab": {
     "base_uri": "https://localhost:8080/",
     "height": 1000
    },
    "id": "Z0DthAKAyQEo",
    "outputId": "d8fd08ae-4d13-4b2a-eea5-dcf6abd61901"
   },
   "outputs": [
    {
     "name": "stdout",
     "output_type": "stream",
     "text": [
      "Looking in indexes: https://pypi.org/simple, https://us-python.pkg.dev/colab-wheels/public/simple/\n",
      "Collecting tensorflow_text\n",
      "  Downloading tensorflow_text-2.9.0-cp37-cp37m-manylinux_2_17_x86_64.manylinux2014_x86_64.whl (4.6 MB)\n",
      "\u001b[K     |████████████████████████████████| 4.6 MB 7.4 MB/s \n",
      "\u001b[?25hRequirement already satisfied: tensorflow-hub>=0.8.0 in /usr/local/lib/python3.7/dist-packages (from tensorflow_text) (0.12.0)\n",
      "Collecting tensorflow<2.10,>=2.9.0\n",
      "  Downloading tensorflow-2.9.1-cp37-cp37m-manylinux_2_17_x86_64.manylinux2014_x86_64.whl (511.7 MB)\n",
      "\u001b[K     |████████████████████████████████| 511.7 MB 5.7 kB/s \n",
      "\u001b[?25hCollecting keras<2.10.0,>=2.9.0rc0\n",
      "  Downloading keras-2.9.0-py2.py3-none-any.whl (1.6 MB)\n",
      "\u001b[K     |████████████████████████████████| 1.6 MB 47.0 MB/s \n",
      "\u001b[?25hRequirement already satisfied: wrapt>=1.11.0 in /usr/local/lib/python3.7/dist-packages (from tensorflow<2.10,>=2.9.0->tensorflow_text) (1.14.1)\n",
      "Requirement already satisfied: libclang>=13.0.0 in /usr/local/lib/python3.7/dist-packages (from tensorflow<2.10,>=2.9.0->tensorflow_text) (14.0.6)\n",
      "Requirement already satisfied: setuptools in /usr/local/lib/python3.7/dist-packages (from tensorflow<2.10,>=2.9.0->tensorflow_text) (57.4.0)\n",
      "Requirement already satisfied: typing-extensions>=3.6.6 in /usr/local/lib/python3.7/dist-packages (from tensorflow<2.10,>=2.9.0->tensorflow_text) (4.1.1)\n",
      "Requirement already satisfied: tensorflow-io-gcs-filesystem>=0.23.1 in /usr/local/lib/python3.7/dist-packages (from tensorflow<2.10,>=2.9.0->tensorflow_text) (0.26.0)\n",
      "Requirement already satisfied: numpy>=1.20 in /usr/local/lib/python3.7/dist-packages (from tensorflow<2.10,>=2.9.0->tensorflow_text) (1.21.6)\n",
      "Requirement already satisfied: packaging in /usr/local/lib/python3.7/dist-packages (from tensorflow<2.10,>=2.9.0->tensorflow_text) (21.3)\n",
      "Requirement already satisfied: h5py>=2.9.0 in /usr/local/lib/python3.7/dist-packages (from tensorflow<2.10,>=2.9.0->tensorflow_text) (3.1.0)\n",
      "Requirement already satisfied: termcolor>=1.1.0 in /usr/local/lib/python3.7/dist-packages (from tensorflow<2.10,>=2.9.0->tensorflow_text) (1.1.0)\n",
      "Requirement already satisfied: six>=1.12.0 in /usr/local/lib/python3.7/dist-packages (from tensorflow<2.10,>=2.9.0->tensorflow_text) (1.15.0)\n",
      "Requirement already satisfied: protobuf<3.20,>=3.9.2 in /usr/local/lib/python3.7/dist-packages (from tensorflow<2.10,>=2.9.0->tensorflow_text) (3.17.3)\n",
      "Collecting gast<=0.4.0,>=0.2.1\n",
      "  Downloading gast-0.4.0-py3-none-any.whl (9.8 kB)\n",
      "Requirement already satisfied: absl-py>=1.0.0 in /usr/local/lib/python3.7/dist-packages (from tensorflow<2.10,>=2.9.0->tensorflow_text) (1.2.0)\n",
      "Requirement already satisfied: keras-preprocessing>=1.1.1 in /usr/local/lib/python3.7/dist-packages (from tensorflow<2.10,>=2.9.0->tensorflow_text) (1.1.2)\n",
      "Requirement already satisfied: astunparse>=1.6.0 in /usr/local/lib/python3.7/dist-packages (from tensorflow<2.10,>=2.9.0->tensorflow_text) (1.6.3)\n",
      "Collecting flatbuffers<2,>=1.12\n",
      "  Downloading flatbuffers-1.12-py2.py3-none-any.whl (15 kB)\n",
      "Requirement already satisfied: google-pasta>=0.1.1 in /usr/local/lib/python3.7/dist-packages (from tensorflow<2.10,>=2.9.0->tensorflow_text) (0.2.0)\n",
      "Requirement already satisfied: opt-einsum>=2.3.2 in /usr/local/lib/python3.7/dist-packages (from tensorflow<2.10,>=2.9.0->tensorflow_text) (3.3.0)\n",
      "Collecting tensorboard<2.10,>=2.9\n",
      "  Downloading tensorboard-2.9.1-py3-none-any.whl (5.8 MB)\n",
      "\u001b[K     |████████████████████████████████| 5.8 MB 55.9 MB/s \n",
      "\u001b[?25hCollecting tensorflow-estimator<2.10.0,>=2.9.0rc0\n",
      "  Downloading tensorflow_estimator-2.9.0-py2.py3-none-any.whl (438 kB)\n",
      "\u001b[K     |████████████████████████████████| 438 kB 75.1 MB/s \n",
      "\u001b[?25hRequirement already satisfied: grpcio<2.0,>=1.24.3 in /usr/local/lib/python3.7/dist-packages (from tensorflow<2.10,>=2.9.0->tensorflow_text) (1.47.0)\n",
      "Requirement already satisfied: wheel<1.0,>=0.23.0 in /usr/local/lib/python3.7/dist-packages (from astunparse>=1.6.0->tensorflow<2.10,>=2.9.0->tensorflow_text) (0.37.1)\n",
      "Requirement already satisfied: cached-property in /usr/local/lib/python3.7/dist-packages (from h5py>=2.9.0->tensorflow<2.10,>=2.9.0->tensorflow_text) (1.5.2)\n",
      "Requirement already satisfied: tensorboard-plugin-wit>=1.6.0 in /usr/local/lib/python3.7/dist-packages (from tensorboard<2.10,>=2.9->tensorflow<2.10,>=2.9.0->tensorflow_text) (1.8.1)\n",
      "Requirement already satisfied: google-auth<3,>=1.6.3 in /usr/local/lib/python3.7/dist-packages (from tensorboard<2.10,>=2.9->tensorflow<2.10,>=2.9.0->tensorflow_text) (1.35.0)\n",
      "Requirement already satisfied: requests<3,>=2.21.0 in /usr/local/lib/python3.7/dist-packages (from tensorboard<2.10,>=2.9->tensorflow<2.10,>=2.9.0->tensorflow_text) (2.23.0)\n",
      "Requirement already satisfied: werkzeug>=1.0.1 in /usr/local/lib/python3.7/dist-packages (from tensorboard<2.10,>=2.9->tensorflow<2.10,>=2.9.0->tensorflow_text) (1.0.1)\n",
      "Requirement already satisfied: google-auth-oauthlib<0.5,>=0.4.1 in /usr/local/lib/python3.7/dist-packages (from tensorboard<2.10,>=2.9->tensorflow<2.10,>=2.9.0->tensorflow_text) (0.4.6)\n",
      "Requirement already satisfied: tensorboard-data-server<0.7.0,>=0.6.0 in /usr/local/lib/python3.7/dist-packages (from tensorboard<2.10,>=2.9->tensorflow<2.10,>=2.9.0->tensorflow_text) (0.6.1)\n",
      "Requirement already satisfied: markdown>=2.6.8 in /usr/local/lib/python3.7/dist-packages (from tensorboard<2.10,>=2.9->tensorflow<2.10,>=2.9.0->tensorflow_text) (3.4.1)\n",
      "Requirement already satisfied: rsa<5,>=3.1.4 in /usr/local/lib/python3.7/dist-packages (from google-auth<3,>=1.6.3->tensorboard<2.10,>=2.9->tensorflow<2.10,>=2.9.0->tensorflow_text) (4.9)\n",
      "Requirement already satisfied: pyasn1-modules>=0.2.1 in /usr/local/lib/python3.7/dist-packages (from google-auth<3,>=1.6.3->tensorboard<2.10,>=2.9->tensorflow<2.10,>=2.9.0->tensorflow_text) (0.2.8)\n",
      "Requirement already satisfied: cachetools<5.0,>=2.0.0 in /usr/local/lib/python3.7/dist-packages (from google-auth<3,>=1.6.3->tensorboard<2.10,>=2.9->tensorflow<2.10,>=2.9.0->tensorflow_text) (4.2.4)\n",
      "Requirement already satisfied: requests-oauthlib>=0.7.0 in /usr/local/lib/python3.7/dist-packages (from google-auth-oauthlib<0.5,>=0.4.1->tensorboard<2.10,>=2.9->tensorflow<2.10,>=2.9.0->tensorflow_text) (1.3.1)\n",
      "Requirement already satisfied: importlib-metadata>=4.4 in /usr/local/lib/python3.7/dist-packages (from markdown>=2.6.8->tensorboard<2.10,>=2.9->tensorflow<2.10,>=2.9.0->tensorflow_text) (4.12.0)\n",
      "Requirement already satisfied: zipp>=0.5 in /usr/local/lib/python3.7/dist-packages (from importlib-metadata>=4.4->markdown>=2.6.8->tensorboard<2.10,>=2.9->tensorflow<2.10,>=2.9.0->tensorflow_text) (3.8.1)\n",
      "Requirement already satisfied: pyasn1<0.5.0,>=0.4.6 in /usr/local/lib/python3.7/dist-packages (from pyasn1-modules>=0.2.1->google-auth<3,>=1.6.3->tensorboard<2.10,>=2.9->tensorflow<2.10,>=2.9.0->tensorflow_text) (0.4.8)\n",
      "Requirement already satisfied: urllib3!=1.25.0,!=1.25.1,<1.26,>=1.21.1 in /usr/local/lib/python3.7/dist-packages (from requests<3,>=2.21.0->tensorboard<2.10,>=2.9->tensorflow<2.10,>=2.9.0->tensorflow_text) (1.24.3)\n",
      "Requirement already satisfied: certifi>=2017.4.17 in /usr/local/lib/python3.7/dist-packages (from requests<3,>=2.21.0->tensorboard<2.10,>=2.9->tensorflow<2.10,>=2.9.0->tensorflow_text) (2022.6.15)\n",
      "Requirement already satisfied: chardet<4,>=3.0.2 in /usr/local/lib/python3.7/dist-packages (from requests<3,>=2.21.0->tensorboard<2.10,>=2.9->tensorflow<2.10,>=2.9.0->tensorflow_text) (3.0.4)\n",
      "Requirement already satisfied: idna<3,>=2.5 in /usr/local/lib/python3.7/dist-packages (from requests<3,>=2.21.0->tensorboard<2.10,>=2.9->tensorflow<2.10,>=2.9.0->tensorflow_text) (2.10)\n",
      "Requirement already satisfied: oauthlib>=3.0.0 in /usr/local/lib/python3.7/dist-packages (from requests-oauthlib>=0.7.0->google-auth-oauthlib<0.5,>=0.4.1->tensorboard<2.10,>=2.9->tensorflow<2.10,>=2.9.0->tensorflow_text) (3.2.0)\n",
      "Requirement already satisfied: pyparsing!=3.0.5,>=2.0.2 in /usr/local/lib/python3.7/dist-packages (from packaging->tensorflow<2.10,>=2.9.0->tensorflow_text) (3.0.9)\n",
      "Installing collected packages: tensorflow-estimator, tensorboard, keras, gast, flatbuffers, tensorflow, tensorflow-text\n",
      "  Attempting uninstall: tensorflow-estimator\n",
      "    Found existing installation: tensorflow-estimator 2.8.0\n",
      "    Uninstalling tensorflow-estimator-2.8.0:\n",
      "      Successfully uninstalled tensorflow-estimator-2.8.0\n",
      "  Attempting uninstall: tensorboard\n",
      "    Found existing installation: tensorboard 2.8.0\n",
      "    Uninstalling tensorboard-2.8.0:\n",
      "      Successfully uninstalled tensorboard-2.8.0\n",
      "  Attempting uninstall: keras\n",
      "    Found existing installation: keras 2.8.0\n",
      "    Uninstalling keras-2.8.0:\n",
      "      Successfully uninstalled keras-2.8.0\n",
      "  Attempting uninstall: gast\n",
      "    Found existing installation: gast 0.5.3\n",
      "    Uninstalling gast-0.5.3:\n",
      "      Successfully uninstalled gast-0.5.3\n",
      "  Attempting uninstall: flatbuffers\n",
      "    Found existing installation: flatbuffers 2.0\n",
      "    Uninstalling flatbuffers-2.0:\n",
      "      Successfully uninstalled flatbuffers-2.0\n",
      "  Attempting uninstall: tensorflow\n",
      "    Found existing installation: tensorflow 2.8.2+zzzcolab20220719082949\n",
      "    Uninstalling tensorflow-2.8.2+zzzcolab20220719082949:\n",
      "      Successfully uninstalled tensorflow-2.8.2+zzzcolab20220719082949\n",
      "Successfully installed flatbuffers-1.12 gast-0.4.0 keras-2.9.0 tensorboard-2.9.1 tensorflow-2.9.1 tensorflow-estimator-2.9.0 tensorflow-text-2.9.0\n"
     ]
    },
    {
     "data": {
      "application/vnd.colab-display-data+json": {
       "pip_warning": {
        "packages": [
         "flatbuffers",
         "gast",
         "keras",
         "tensorboard",
         "tensorflow",
         "tensorflow_estimator"
        ]
       }
      }
     },
     "metadata": {},
     "output_type": "display_data"
    }
   ],
   "source": [
    "! pip install tensorflow_text"
   ]
  },
  {
   "cell_type": "code",
   "execution_count": 1,
   "metadata": {
    "id": "ylft1On3opA-"
   },
   "outputs": [],
   "source": [
    "import tensorflow_hub as hub\n",
    "import tensorflow_text as text"
   ]
  },
  {
   "cell_type": "code",
   "execution_count": 3,
   "metadata": {
    "id": "12n277niony6"
   },
   "outputs": [],
   "source": [
    "encoding_url = 'https://tfhub.dev/tensorflow/bert_en_uncased_L-12_H-768_A-12/4'\n",
    "preprocessing_url = 'https://tfhub.dev/tensorflow/bert_en_uncased_preprocess/3'"
   ]
  },
  {
   "cell_type": "code",
   "execution_count": 7,
   "metadata": {
    "id": "QIhvakSYoPDk"
   },
   "outputs": [],
   "source": [
    "bert_preprocessor = hub.KerasLayer(preprocessing_url) # we create a function pointer for our preprocessing object"
   ]
  },
  {
   "cell_type": "code",
   "execution_count": 11,
   "metadata": {
    "colab": {
     "base_uri": "https://localhost:8080/"
    },
    "id": "u35tueRuqJXs",
    "outputId": "6b0c447d-82e3-4a3e-a363-591097bac593"
   },
   "outputs": [
    {
     "data": {
      "text/plain": [
       "dict_keys(['input_word_ids', 'input_mask', 'input_type_ids'])"
      ]
     },
     "execution_count": 11,
     "metadata": {},
     "output_type": "execute_result"
    }
   ],
   "source": [
    "sample_text = ['what is my name','why is gamora']\n",
    "processed_sample = bert_preprocessor(sample_text) #applying our function pointer on a sample text\n",
    "processed_sample.keys() # it return a dictionary"
   ]
  },
  {
   "cell_type": "code",
   "execution_count": 14,
   "metadata": {
    "colab": {
     "base_uri": "https://localhost:8080/"
    },
    "id": "qusve7HirALT",
    "outputId": "8522ba18-bcbb-453d-a9e9-0885957deffa"
   },
   "outputs": [
    {
     "data": {
      "text/plain": [
       "<tf.Tensor: shape=(2, 128), dtype=int32, numpy=\n",
       "array([[1, 1, 1, 1, 1, 1, 0, 0, 0, 0, 0, 0, 0, 0, 0, 0, 0, 0, 0, 0, 0, 0,\n",
       "        0, 0, 0, 0, 0, 0, 0, 0, 0, 0, 0, 0, 0, 0, 0, 0, 0, 0, 0, 0, 0, 0,\n",
       "        0, 0, 0, 0, 0, 0, 0, 0, 0, 0, 0, 0, 0, 0, 0, 0, 0, 0, 0, 0, 0, 0,\n",
       "        0, 0, 0, 0, 0, 0, 0, 0, 0, 0, 0, 0, 0, 0, 0, 0, 0, 0, 0, 0, 0, 0,\n",
       "        0, 0, 0, 0, 0, 0, 0, 0, 0, 0, 0, 0, 0, 0, 0, 0, 0, 0, 0, 0, 0, 0,\n",
       "        0, 0, 0, 0, 0, 0, 0, 0, 0, 0, 0, 0, 0, 0, 0, 0, 0, 0],\n",
       "       [1, 1, 1, 1, 1, 1, 0, 0, 0, 0, 0, 0, 0, 0, 0, 0, 0, 0, 0, 0, 0, 0,\n",
       "        0, 0, 0, 0, 0, 0, 0, 0, 0, 0, 0, 0, 0, 0, 0, 0, 0, 0, 0, 0, 0, 0,\n",
       "        0, 0, 0, 0, 0, 0, 0, 0, 0, 0, 0, 0, 0, 0, 0, 0, 0, 0, 0, 0, 0, 0,\n",
       "        0, 0, 0, 0, 0, 0, 0, 0, 0, 0, 0, 0, 0, 0, 0, 0, 0, 0, 0, 0, 0, 0,\n",
       "        0, 0, 0, 0, 0, 0, 0, 0, 0, 0, 0, 0, 0, 0, 0, 0, 0, 0, 0, 0, 0, 0,\n",
       "        0, 0, 0, 0, 0, 0, 0, 0, 0, 0, 0, 0, 0, 0, 0, 0, 0, 0]],\n",
       "      dtype=int32)>"
      ]
     },
     "execution_count": 14,
     "metadata": {},
     "output_type": "execute_result"
    }
   ],
   "source": [
    "processed_sample['input_mask']\n",
    "# for each corresponding mask we have a CLS token preceeding it and an SEP token after it\n",
    "# 128 corresponds to the max length of the sentences that can be processed"
   ]
  },
  {
   "cell_type": "code",
   "execution_count": 17,
   "metadata": {
    "colab": {
     "base_uri": "https://localhost:8080/"
    },
    "id": "jnQ5I10Lrb00",
    "outputId": "396c2d75-a841-4178-be82-1f7535573726"
   },
   "outputs": [
    {
     "data": {
      "text/plain": [
       "<tf.Tensor: shape=(2, 128), dtype=int32, numpy=\n",
       "array([[  101,  2054,  2003,  2026,  2171,   102,     0,     0,     0,\n",
       "            0,     0,     0,     0,     0,     0,     0,     0,     0,\n",
       "            0,     0,     0,     0,     0,     0,     0,     0,     0,\n",
       "            0,     0,     0,     0,     0,     0,     0,     0,     0,\n",
       "            0,     0,     0,     0,     0,     0,     0,     0,     0,\n",
       "            0,     0,     0,     0,     0,     0,     0,     0,     0,\n",
       "            0,     0,     0,     0,     0,     0,     0,     0,     0,\n",
       "            0,     0,     0,     0,     0,     0,     0,     0,     0,\n",
       "            0,     0,     0,     0,     0,     0,     0,     0,     0,\n",
       "            0,     0,     0,     0,     0,     0,     0,     0,     0,\n",
       "            0,     0,     0,     0,     0,     0,     0,     0,     0,\n",
       "            0,     0,     0,     0,     0,     0,     0,     0,     0,\n",
       "            0,     0,     0,     0,     0,     0,     0,     0,     0,\n",
       "            0,     0,     0,     0,     0,     0,     0,     0,     0,\n",
       "            0,     0],\n",
       "       [  101,  2339,  2003, 11721, 22122,   102,     0,     0,     0,\n",
       "            0,     0,     0,     0,     0,     0,     0,     0,     0,\n",
       "            0,     0,     0,     0,     0,     0,     0,     0,     0,\n",
       "            0,     0,     0,     0,     0,     0,     0,     0,     0,\n",
       "            0,     0,     0,     0,     0,     0,     0,     0,     0,\n",
       "            0,     0,     0,     0,     0,     0,     0,     0,     0,\n",
       "            0,     0,     0,     0,     0,     0,     0,     0,     0,\n",
       "            0,     0,     0,     0,     0,     0,     0,     0,     0,\n",
       "            0,     0,     0,     0,     0,     0,     0,     0,     0,\n",
       "            0,     0,     0,     0,     0,     0,     0,     0,     0,\n",
       "            0,     0,     0,     0,     0,     0,     0,     0,     0,\n",
       "            0,     0,     0,     0,     0,     0,     0,     0,     0,\n",
       "            0,     0,     0,     0,     0,     0,     0,     0,     0,\n",
       "            0,     0,     0,     0,     0,     0,     0,     0,     0,\n",
       "            0,     0]], dtype=int32)>"
      ]
     },
     "execution_count": 17,
     "metadata": {},
     "output_type": "execute_result"
    }
   ],
   "source": [
    "processed_sample['input_word_ids']\n",
    "# the CLS token is assigned a word token of 101\n",
    "# the SEP token is assigned a word token of 102"
   ]
  },
  {
   "cell_type": "code",
   "execution_count": 18,
   "metadata": {
    "id": "vkNqf1UTsefD"
   },
   "outputs": [],
   "source": [
    "bert_model = hub.KerasLayer(encoding_url) # create a function pointer for the model"
   ]
  },
  {
   "cell_type": "code",
   "execution_count": 19,
   "metadata": {
    "colab": {
     "base_uri": "https://localhost:8080/"
    },
    "id": "atfyBGcStOak",
    "outputId": "57b2cacb-222e-4642-d3b9-a15648c2ace9"
   },
   "outputs": [
    {
     "data": {
      "text/plain": [
       "{'sequence_output': <tf.Tensor: shape=(2, 128, 768), dtype=float32, numpy=\n",
       " array([[[-0.00413052,  0.3507993 , -0.098371  , ..., -0.19417861,\n",
       "           0.16171378,  0.27226844],\n",
       "         [-0.32959467,  0.49384812,  0.20249972, ...,  0.53534913,\n",
       "           0.5607405 , -0.5904846 ],\n",
       "         [ 0.02119199,  0.05949645,  0.4352878 , ..., -0.29770786,\n",
       "           0.09727587,  0.3044195 ],\n",
       "         ...,\n",
       "         [-0.27410454,  0.27356216,  0.25825542, ...,  0.2427294 ,\n",
       "          -0.09883431, -0.04255274],\n",
       "         [-0.2915065 ,  0.22782595,  0.33626673, ...,  0.19962136,\n",
       "          -0.06843841, -0.05779005],\n",
       "         [-0.20941599,  0.14267516,  0.397332  , ...,  0.17421186,\n",
       "          -0.07049121, -0.00233145]],\n",
       " \n",
       "        [[-0.3395212 ,  0.18880895, -0.24703833, ..., -0.19675605,\n",
       "           0.29928553,  0.3292455 ],\n",
       "         [ 0.15843871,  0.16222589,  0.03240399, ..., -0.26986608,\n",
       "           0.36997914, -0.08333258],\n",
       "         [-0.3375595 , -0.8983127 ,  0.14492732, ..., -0.53218114,\n",
       "           0.45118478,  0.6030057 ],\n",
       "         ...,\n",
       "         [-0.15516761,  0.20082708,  0.13116899, ...,  0.24156258,\n",
       "           0.06419481,  0.07515314],\n",
       "         [-0.14904901,  0.23137115,  0.23888001, ...,  0.12474529,\n",
       "           0.1034765 ,  0.0799364 ],\n",
       "         [-0.2918102 ,  0.08632328,  0.2722059 , ...,  0.1535922 ,\n",
       "           0.15177944, -0.03646848]]], dtype=float32)>,\n",
       " 'encoder_outputs': [<tf.Tensor: shape=(2, 128, 768), dtype=float32, numpy=\n",
       "  array([[[ 1.96220979e-01, -9.71225649e-03, -5.57876378e-02, ...,\n",
       "           -2.81693190e-02,  6.30013198e-02,  1.00112110e-02],\n",
       "          [ 1.34316397e+00,  7.26792812e-01, -1.42994547e+00, ...,\n",
       "            3.73882324e-01,  2.61573672e-01, -1.89081752e+00],\n",
       "          [-6.55912310e-02,  2.02594195e-02, -3.60179424e-01, ...,\n",
       "           -4.89100039e-01,  7.19177008e-01,  1.08746104e-01],\n",
       "          ...,\n",
       "          [-5.09886444e-03, -2.29344741e-01,  6.36600733e-01, ...,\n",
       "            2.32254133e-01, -2.97292352e-01,  7.42826238e-03],\n",
       "          [-9.20952857e-02, -2.40388155e-01,  5.12308478e-01, ...,\n",
       "            2.29148224e-01, -1.90441340e-01, -7.69799948e-02],\n",
       "          [ 3.62218171e-02, -1.61492109e-01,  5.48045933e-01, ...,\n",
       "            5.59694469e-01, -5.29682219e-01, -1.54658228e-01]],\n",
       "  \n",
       "         [[ 2.44704247e-01, -2.01615915e-02, -8.04089978e-02, ...,\n",
       "           -3.02486755e-02,  4.34307307e-02,  1.77269019e-02],\n",
       "          [ 8.18635583e-01,  8.46949220e-01, -7.88537800e-01, ...,\n",
       "            4.49314773e-01,  1.04870832e+00,  5.97590625e-01],\n",
       "          [-3.55946779e-01, -3.53163451e-01, -6.22780383e-01, ...,\n",
       "            1.42664418e-01,  4.08257067e-01,  3.90868694e-01],\n",
       "          ...,\n",
       "          [ 6.78428262e-03, -2.99701601e-01,  5.71340919e-01, ...,\n",
       "            3.80645931e-01, -3.44322443e-01,  3.84911895e-04],\n",
       "          [-6.43672720e-02, -3.15303594e-01,  4.36911821e-01, ...,\n",
       "            3.91243100e-01, -2.42700920e-01, -9.85837877e-02],\n",
       "          [ 6.61839098e-02, -2.48038903e-01,  4.67175126e-01, ...,\n",
       "            7.28750050e-01, -5.79104185e-01, -1.74341887e-01]]],\n",
       "        dtype=float32)>, <tf.Tensor: shape=(2, 128, 768), dtype=float32, numpy=\n",
       "  array([[[ 0.02724521, -0.20479295, -0.24246722, ...,  0.1442835 ,\n",
       "            0.11831353,  0.07769124],\n",
       "          [ 1.1721774 ,  0.77486837, -0.97708815, ...,  0.85504913,\n",
       "            0.30943623, -1.9147512 ],\n",
       "          [-0.57424325,  0.40996072,  0.296241  , ..., -0.38831693,\n",
       "            0.13158071, -0.04493677],\n",
       "          ...,\n",
       "          [-0.23669648, -0.24984033,  0.45870113, ...,  1.0138086 ,\n",
       "           -0.43617374, -0.11947536],\n",
       "          [-0.37415075, -0.04233345,  0.48821643, ...,  0.8563998 ,\n",
       "           -0.4315334 , -0.22439077],\n",
       "          [-0.24233183, -0.29086995,  0.3387162 , ...,  1.1485995 ,\n",
       "           -0.5455563 , -0.18510783]],\n",
       "  \n",
       "         [[ 0.08268854, -0.22476663, -0.21312484, ...,  0.1278303 ,\n",
       "            0.08360358,  0.08870514],\n",
       "          [ 0.97871006,  1.0430634 , -0.7095341 , ...,  0.6957203 ,\n",
       "            0.97340566,  0.61734563],\n",
       "          [-0.7958247 , -0.34049922, -0.41784912, ..., -0.04288945,\n",
       "            0.03905581,  0.35013178],\n",
       "          ...,\n",
       "          [-0.14585711, -0.2677415 ,  0.35524935, ...,  1.028115  ,\n",
       "           -0.47118768, -0.03140392],\n",
       "          [-0.2594982 , -0.11321925,  0.30725086, ...,  0.92653924,\n",
       "           -0.4394705 , -0.05112469],\n",
       "          [-0.1473428 , -0.29295978,  0.23159753, ...,  1.1382389 ,\n",
       "           -0.664001  , -0.12850748]]], dtype=float32)>, <tf.Tensor: shape=(2, 128, 768), dtype=float32, numpy=\n",
       "  array([[[ 0.0053313 , -0.26227623, -0.0544326 , ...,  0.27654737,\n",
       "            0.09503519,  0.23496072],\n",
       "          [ 0.6711881 ,  0.30168244, -0.43501246, ...,  1.1573343 ,\n",
       "            0.05291108, -1.8019005 ],\n",
       "          [-0.659316  ,  0.14706552,  0.49199176, ..., -0.24792223,\n",
       "            0.19152008,  0.0198713 ],\n",
       "          ...,\n",
       "          [-0.24071458, -0.13829635,  0.73662764, ...,  1.0544225 ,\n",
       "           -0.05678387, -0.2314211 ],\n",
       "          [-0.39597917,  0.08229211,  0.6827714 , ...,  0.9420189 ,\n",
       "           -0.09634976, -0.3711852 ],\n",
       "          [-0.33872518, -0.20885399,  0.6459481 , ...,  1.1782103 ,\n",
       "           -0.26824003, -0.31977618]],\n",
       "  \n",
       "         [[-0.0313027 , -0.2265461 , -0.01063379, ...,  0.309254  ,\n",
       "            0.09284246,  0.19486718],\n",
       "          [ 0.7381016 ,  0.2731117 ,  0.04211443, ...,  0.40927714,\n",
       "            1.1641544 ,  0.50592613],\n",
       "          [-0.70847434, -0.40888566, -0.47130948, ..., -0.00915683,\n",
       "           -0.01563419,  0.18830691],\n",
       "          ...,\n",
       "          [-0.19165836, -0.09800024,  0.68810487, ...,  1.1135352 ,\n",
       "           -0.13503769, -0.15741864],\n",
       "          [-0.3578157 ,  0.0248124 ,  0.57024074, ...,  1.0759618 ,\n",
       "           -0.17327967, -0.19915053],\n",
       "          [-0.29175067, -0.18829992,  0.5630331 , ...,  1.2234495 ,\n",
       "           -0.39126515, -0.26865426]]], dtype=float32)>, <tf.Tensor: shape=(2, 128, 768), dtype=float32, numpy=\n",
       "  array([[[ 0.14523926, -0.52215266, -0.4930627 , ...,  0.56030035,\n",
       "           -0.02225967,  0.6404794 ],\n",
       "          [ 0.30057102, -0.29649612,  0.32423735, ...,  0.94070625,\n",
       "           -0.2104417 , -1.8769879 ],\n",
       "          [-1.1493247 , -0.2969349 ,  0.8940359 , ..., -0.0914783 ,\n",
       "           -0.5424031 ,  0.49869397],\n",
       "          ...,\n",
       "          [-0.34315887, -0.51455605,  1.0717114 , ...,  0.89298874,\n",
       "           -0.5961641 , -0.21959491],\n",
       "          [-0.5401231 , -0.23991753,  0.9375666 , ...,  0.773381  ,\n",
       "           -0.60431194, -0.43939704],\n",
       "          [-0.44328183, -0.61640286,  0.9593958 , ...,  1.156639  ,\n",
       "           -0.6572423 , -0.38059714]],\n",
       "  \n",
       "         [[-0.08647201, -0.53587705, -0.44410357, ...,  0.4182036 ,\n",
       "            0.2669288 ,  0.53382266],\n",
       "          [ 0.5925289 ,  0.0583718 ,  0.53842753, ...,  0.36531582,\n",
       "            0.5299078 ,  0.4713326 ],\n",
       "          [-0.9692899 , -0.76731575, -0.26107728, ..., -0.29049227,\n",
       "           -0.11447375,  0.8594468 ],\n",
       "          ...,\n",
       "          [-0.28066027, -0.6365746 ,  1.0646966 , ...,  0.8624471 ,\n",
       "           -0.6479196 , -0.10968208],\n",
       "          [-0.50851923, -0.50318   ,  0.9029912 , ...,  0.782507  ,\n",
       "           -0.6953094 , -0.1900317 ],\n",
       "          [-0.4271564 , -0.78133875,  0.999943  , ...,  1.022138  ,\n",
       "           -0.8119472 , -0.27574635]]], dtype=float32)>, <tf.Tensor: shape=(2, 128, 768), dtype=float32, numpy=\n",
       "  array([[[ 0.10702704, -0.288882  , -0.5993291 , ..., -0.02644229,\n",
       "            0.10551339,  0.7139375 ],\n",
       "          [ 0.39410737, -0.25441724,  0.11622825, ...,  0.90099114,\n",
       "           -0.5472008 , -1.7961929 ],\n",
       "          [-1.180558  , -0.02956143,  1.0516331 , ...,  0.32432854,\n",
       "            0.44303805,  0.49713197],\n",
       "          ...,\n",
       "          [-0.10749462, -0.26691443,  1.0807891 , ...,  0.0820765 ,\n",
       "           -0.4227349 , -0.16248801],\n",
       "          [-0.24838233,  0.03597807,  1.0249509 , ...,  0.0888251 ,\n",
       "           -0.4231809 , -0.45441833],\n",
       "          [-0.22328079, -0.36788213,  1.0348619 , ...,  0.53038365,\n",
       "           -0.4720747 , -0.42276967]],\n",
       "  \n",
       "         [[-0.48074195, -0.3634706 , -0.42903903, ..., -0.36193997,\n",
       "            0.4752731 ,  0.8247003 ],\n",
       "          [ 0.34486642, -0.62002426,  0.13784607, ...,  0.19261764,\n",
       "            0.39153135,  0.5485846 ],\n",
       "          [-0.8839167 , -0.97395164, -0.43562412, ..., -1.3868445 ,\n",
       "            0.35182488,  1.0276182 ],\n",
       "          ...,\n",
       "          [-0.36319086, -0.4058441 ,  0.96680015, ...,  0.04753588,\n",
       "           -0.09965391, -0.19498882],\n",
       "          [-0.4270929 , -0.1520065 ,  0.93019027, ...,  0.05408499,\n",
       "           -0.18820795, -0.29901192],\n",
       "          [-0.54635704, -0.5530018 ,  0.9425857 , ...,  0.44227108,\n",
       "           -0.25696504, -0.4647981 ]]], dtype=float32)>, <tf.Tensor: shape=(2, 128, 768), dtype=float32, numpy=\n",
       "  array([[[ 0.08758658, -0.41178572, -0.5804881 , ..., -0.15291452,\n",
       "            0.08108158,  0.78334206],\n",
       "          [ 0.31142467, -0.2203619 ,  0.1542735 , ...,  0.9363555 ,\n",
       "           -0.58797526, -1.7277224 ],\n",
       "          [-0.84486246, -0.26174843,  0.48057097, ..., -0.13226585,\n",
       "            0.6652259 ,  0.44144088],\n",
       "          ...,\n",
       "          [-0.17221892,  0.03676967,  1.407174  , ...,  0.09204134,\n",
       "           -0.65310603, -0.15773459],\n",
       "          [-0.33698845,  0.30895135,  1.3802665 , ...,  0.02082217,\n",
       "           -0.67931867, -0.38243407],\n",
       "          [-0.3206696 , -0.09275007,  1.4066658 , ...,  0.40303287,\n",
       "           -0.67176837, -0.36545235]],\n",
       "  \n",
       "         [[-0.44050795, -0.61230904, -0.89686245, ..., -0.4150508 ,\n",
       "            0.36475027,  0.89716727],\n",
       "          [ 0.45256066, -0.6678076 ,  0.16286933, ...,  0.3303376 ,\n",
       "            0.6061734 ,  0.42186284],\n",
       "          [-0.4981333 , -0.8411603 , -0.348441  , ..., -1.7489607 ,\n",
       "            0.30841118,  1.0597591 ],\n",
       "          ...,\n",
       "          [-0.48775718, -0.09234619,  1.1921716 , ...,  0.14039925,\n",
       "           -0.25462458, -0.13696417],\n",
       "          [-0.5854775 ,  0.12395509,  1.1558896 , ...,  0.15230297,\n",
       "           -0.36234328, -0.26191878],\n",
       "          [-0.69046503, -0.3903303 ,  1.1465621 , ...,  0.49335888,\n",
       "           -0.3660958 , -0.44396806]]], dtype=float32)>, <tf.Tensor: shape=(2, 128, 768), dtype=float32, numpy=\n",
       "  array([[[ 0.41513515, -0.1482495 , -0.83556694, ..., -0.5686285 ,\n",
       "            0.5395354 ,  1.0769258 ],\n",
       "          [ 0.08164731, -0.20826176, -0.0175932 , ...,  0.88225746,\n",
       "           -0.56174684, -1.542946  ],\n",
       "          [-1.1460134 , -0.479714  ,  0.0697233 , ..., -0.38191643,\n",
       "            1.0639455 ,  0.25120243],\n",
       "          ...,\n",
       "          [-0.18968934, -0.03623168,  1.4693959 , ...,  0.49357784,\n",
       "           -0.43291578,  0.10493147],\n",
       "          [-0.336037  ,  0.16790402,  1.5475335 , ...,  0.2815103 ,\n",
       "           -0.43769503, -0.2239474 ],\n",
       "          [-0.36806932, -0.2080004 ,  1.6099391 , ...,  0.5485841 ,\n",
       "           -0.44604936, -0.35879382]],\n",
       "  \n",
       "         [[-0.00801615, -0.56017715, -1.124824  , ..., -0.7353381 ,\n",
       "            0.47506416,  1.1085222 ],\n",
       "          [ 0.34379736, -0.8637859 ,  0.17280841, ...,  0.7547081 ,\n",
       "            0.4180654 ,  0.53236455],\n",
       "          [-0.12287989, -1.0601894 , -0.3395343 , ..., -1.4626487 ,\n",
       "            0.4005419 ,  0.8452579 ],\n",
       "          ...,\n",
       "          [-0.20298114, -0.28093886,  1.0004884 , ...,  0.2821267 ,\n",
       "           -0.3201482 ,  0.05206433],\n",
       "          [-0.23035222, -0.13211487,  0.82724214, ...,  0.17064956,\n",
       "           -0.30700603, -0.0377505 ],\n",
       "          [-0.50465244, -0.6501737 ,  1.1335121 , ...,  0.4193433 ,\n",
       "           -0.26203403, -0.3658638 ]]], dtype=float32)>, <tf.Tensor: shape=(2, 128, 768), dtype=float32, numpy=\n",
       "  array([[[ 9.4451286e-02,  2.7488118e-01, -1.1657412e+00, ...,\n",
       "           -1.1985292e+00,  6.2566805e-01,  1.0454836e+00],\n",
       "          [ 1.0494922e-01, -2.6343188e-01, -2.7127701e-01, ...,\n",
       "            3.0865392e-01, -6.2533873e-01, -9.8719817e-01],\n",
       "          [-7.7206254e-01, -7.7502733e-01, -1.5813248e-01, ...,\n",
       "           -1.1857452e-01,  7.5201190e-01,  5.4984653e-01],\n",
       "          ...,\n",
       "          [-2.9818064e-01,  1.1148406e-03,  1.5221770e+00, ...,\n",
       "            3.5373324e-01, -7.4452358e-01,  4.0416356e-02],\n",
       "          [-4.1600272e-01,  1.7997390e-01,  1.6040889e+00, ...,\n",
       "            1.8744099e-01, -8.4698361e-01, -2.4707946e-01],\n",
       "          [-3.3095962e-01, -1.2383444e-01,  1.6309252e+00, ...,\n",
       "            4.9681768e-01, -8.7452316e-01, -3.0777463e-01]],\n",
       "  \n",
       "         [[-2.0518957e-01, -5.3468752e-01, -1.4076149e+00, ...,\n",
       "           -1.3357766e+00,  4.4392368e-01,  1.1674991e+00],\n",
       "          [ 6.9864255e-01, -9.7291219e-01, -5.1818259e-02, ...,\n",
       "            2.3959494e-01, -6.9716841e-02,  5.7656854e-01],\n",
       "          [ 2.2652322e-01, -1.1872613e+00, -5.3481054e-01, ...,\n",
       "           -1.7057110e+00,  3.9429405e-01,  9.2308813e-01],\n",
       "          ...,\n",
       "          [-2.6814586e-01, -5.6054807e-01,  9.0712982e-01, ...,\n",
       "            1.6063757e-01, -4.3323743e-01,  2.3725650e-01],\n",
       "          [-3.8071623e-01, -1.4561340e-01,  9.1499346e-01, ...,\n",
       "            1.6521730e-02, -4.9338937e-01,  3.8961754e-03],\n",
       "          [-6.3510871e-01, -6.3468766e-01,  1.1368055e+00, ...,\n",
       "            3.5159153e-01, -5.2251077e-01, -3.8110873e-01]]], dtype=float32)>, <tf.Tensor: shape=(2, 128, 768), dtype=float32, numpy=\n",
       "  array([[[ 0.14080958,  0.82998544, -0.9516432 , ..., -0.73780376,\n",
       "           -0.03374014,  0.47659296],\n",
       "          [-0.25644946,  0.00521963,  0.03194054, ...,  0.2763164 ,\n",
       "           -0.028922  , -1.1040944 ],\n",
       "          [-0.8283198 , -0.1982378 ,  0.12248142, ..., -1.0035062 ,\n",
       "           -0.01457625,  0.00343961],\n",
       "          ...,\n",
       "          [-0.71831346,  0.40695113,  0.87089384, ...,  0.5635636 ,\n",
       "           -0.5792897 , -0.2800009 ],\n",
       "          [-0.715711  ,  0.4899794 ,  1.0433002 , ...,  0.43100917,\n",
       "           -0.62618583, -0.4597534 ],\n",
       "          [-0.45318523,  0.18070804,  1.4232461 , ...,  0.6038523 ,\n",
       "           -0.4806125 , -0.41474774]],\n",
       "  \n",
       "         [[-0.516266  , -0.20072016, -1.2890443 , ..., -1.1359318 ,\n",
       "            0.08999493,  0.71785164],\n",
       "          [-0.17844291, -0.4534555 , -0.16962479, ...,  0.01536295,\n",
       "           -0.4237775 ,  0.4830893 ],\n",
       "          [-0.34968263, -1.3527317 , -0.24576811, ..., -1.5141668 ,\n",
       "            0.37009475,  0.49718615],\n",
       "          ...,\n",
       "          [-0.71442604, -0.16525714,  0.3434212 , ...,  0.27247962,\n",
       "           -0.34247318,  0.2478283 ],\n",
       "          [-0.70930195,  0.18743302,  0.41432256, ..., -0.03484924,\n",
       "           -0.42588913,  0.11961269],\n",
       "          [-0.9464936 , -0.26423252,  0.84262896, ...,  0.5580021 ,\n",
       "           -0.25196537, -0.26291478]]], dtype=float32)>, <tf.Tensor: shape=(2, 128, 768), dtype=float32, numpy=\n",
       "  array([[[ 0.02172855,  0.79642606, -0.502066  , ..., -0.69468373,\n",
       "           -0.7025207 ,  0.37633246],\n",
       "          [-0.31950945,  0.2146716 ,  0.43116686, ...,  0.073093  ,\n",
       "            0.20186292, -1.248336  ],\n",
       "          [-0.1055624 ,  0.16792181,  0.67126673, ..., -0.7830278 ,\n",
       "           -0.39273927, -0.18326096],\n",
       "          ...,\n",
       "          [-0.81676203,  0.34127378,  0.99341965, ...,  0.26352757,\n",
       "           -0.8116909 , -0.57315576],\n",
       "          [-0.8132884 ,  0.3269265 ,  1.1436974 , ...,  0.16504893,\n",
       "           -0.7821557 , -0.58131766],\n",
       "          [-0.5484973 ,  0.09476288,  1.4437411 , ...,  0.31905568,\n",
       "           -0.7230355 , -0.34962252]],\n",
       "  \n",
       "         [[-0.4601063 , -0.17620802, -0.8392991 , ..., -0.8962055 ,\n",
       "           -0.30960536,  0.43206674],\n",
       "          [ 0.10732229, -0.29110143,  0.10315749, ..., -0.17001346,\n",
       "            0.09432432, -0.13161525],\n",
       "          [-0.46708176, -1.2231468 ,  0.38698715, ..., -0.84330523,\n",
       "            0.5193439 ,  0.19723251],\n",
       "          ...,\n",
       "          [-0.7312445 ,  0.07808112,  0.82649666, ...,  0.03253559,\n",
       "           -0.14256407, -0.32213125],\n",
       "          [-0.82406145,  0.35050243,  1.0340936 , ..., -0.19355081,\n",
       "           -0.21863765, -0.31989333],\n",
       "          [-0.9942918 , -0.26572472,  1.1582713 , ...,  0.13831635,\n",
       "           -0.04353393, -0.50682825]]], dtype=float32)>, <tf.Tensor: shape=(2, 128, 768), dtype=float32, numpy=\n",
       "  array([[[-0.05014423,  0.48901314, -0.05526969, ..., -0.309339  ,\n",
       "           -0.13362503,  0.17563134],\n",
       "          [-0.5322937 ,  0.18649063,  0.41978508, ...,  0.20421647,\n",
       "            0.41453207, -0.72929484],\n",
       "          [-0.33456433,  0.14971639,  0.93281496, ..., -0.54139686,\n",
       "            0.23373105,  0.40663555],\n",
       "          ...,\n",
       "          [-0.81576395,  0.3151786 ,  0.6223295 , ...,  0.3185304 ,\n",
       "           -0.7178477 , -0.35952452],\n",
       "          [-0.8795858 ,  0.2320199 ,  0.8409951 , ...,  0.17593968,\n",
       "           -0.6526768 , -0.3575803 ],\n",
       "          [-0.64665556,  0.08843783,  1.1261029 , ...,  0.18942767,\n",
       "           -0.6434458 , -0.19533524]],\n",
       "  \n",
       "         [[-0.492428  , -0.2495702 , -0.32637194, ..., -0.5171733 ,\n",
       "            0.12250634,  0.08203611],\n",
       "          [ 0.13881834, -0.23361975,  0.2329312 , ..., -0.16731672,\n",
       "            0.24574292, -0.2686732 ],\n",
       "          [-0.5946113 , -1.0713193 ,  0.26522538, ..., -0.6350002 ,\n",
       "            0.6823162 ,  0.69245005],\n",
       "          ...,\n",
       "          [-0.58429843,  0.01726518,  0.31220087, ...,  0.3510094 ,\n",
       "           -0.16926813, -0.00274934],\n",
       "          [-0.6591365 ,  0.11786592,  0.67081267, ...,  0.01622158,\n",
       "           -0.00512548, -0.00548057],\n",
       "          [-0.9195531 , -0.25320455,  0.7847941 , ...,  0.16094673,\n",
       "            0.09156525, -0.27039477]]], dtype=float32)>, <tf.Tensor: shape=(2, 128, 768), dtype=float32, numpy=\n",
       "  array([[[-0.00413052,  0.3507993 , -0.098371  , ..., -0.19417861,\n",
       "            0.16171378,  0.27226844],\n",
       "          [-0.32959467,  0.49384812,  0.20249972, ...,  0.53534913,\n",
       "            0.5607405 , -0.5904846 ],\n",
       "          [ 0.02119199,  0.05949645,  0.4352878 , ..., -0.29770786,\n",
       "            0.09727587,  0.3044195 ],\n",
       "          ...,\n",
       "          [-0.27410454,  0.27356216,  0.25825542, ...,  0.2427294 ,\n",
       "           -0.09883431, -0.04255274],\n",
       "          [-0.2915065 ,  0.22782595,  0.33626673, ...,  0.19962136,\n",
       "           -0.06843841, -0.05779005],\n",
       "          [-0.20941599,  0.14267516,  0.397332  , ...,  0.17421186,\n",
       "           -0.07049121, -0.00233145]],\n",
       "  \n",
       "         [[-0.3395212 ,  0.18880895, -0.24703833, ..., -0.19675605,\n",
       "            0.29928553,  0.3292455 ],\n",
       "          [ 0.15843871,  0.16222589,  0.03240399, ..., -0.26986608,\n",
       "            0.36997914, -0.08333258],\n",
       "          [-0.3375595 , -0.8983127 ,  0.14492732, ..., -0.53218114,\n",
       "            0.45118478,  0.6030057 ],\n",
       "          ...,\n",
       "          [-0.15516761,  0.20082708,  0.13116899, ...,  0.24156258,\n",
       "            0.06419481,  0.07515314],\n",
       "          [-0.14904901,  0.23137115,  0.23888001, ...,  0.12474529,\n",
       "            0.1034765 ,  0.0799364 ],\n",
       "          [-0.2918102 ,  0.08632328,  0.2722059 , ...,  0.1535922 ,\n",
       "            0.15177944, -0.03646848]]], dtype=float32)>],\n",
       " 'default': <tf.Tensor: shape=(2, 768), dtype=float32, numpy=\n",
       " array([[-0.882144  , -0.27601558, -0.00157468, ...,  0.01501651,\n",
       "         -0.6400068 ,  0.913235  ],\n",
       "        [-0.88832706, -0.35758865, -0.43302548, ..., -0.08125669,\n",
       "         -0.64928794,  0.8898089 ]], dtype=float32)>,\n",
       " 'pooled_output': <tf.Tensor: shape=(2, 768), dtype=float32, numpy=\n",
       " array([[-0.882144  , -0.27601558, -0.00157468, ...,  0.01501651,\n",
       "         -0.6400068 ,  0.913235  ],\n",
       "        [-0.88832706, -0.35758865, -0.43302548, ..., -0.08125669,\n",
       "         -0.64928794,  0.8898089 ]], dtype=float32)>}"
      ]
     },
     "execution_count": 19,
     "metadata": {},
     "output_type": "execute_result"
    }
   ],
   "source": [
    "sentence_embeddings = bert_model(processed_sample) # get the sentence embeddings from each word\n",
    "sentence_embeddings # returns a dicitonary of the results"
   ]
  },
  {
   "cell_type": "code",
   "execution_count": 20,
   "metadata": {
    "colab": {
     "base_uri": "https://localhost:8080/"
    },
    "id": "EWGzKuugt1Rq",
    "outputId": "8976a19c-9cf1-420b-f054-692d52ce18df"
   },
   "outputs": [
    {
     "data": {
      "text/plain": [
       "dict_keys(['sequence_output', 'encoder_outputs', 'default', 'pooled_output'])"
      ]
     },
     "execution_count": 20,
     "metadata": {},
     "output_type": "execute_result"
    }
   ],
   "source": [
    "sentence_embeddings.keys()"
   ]
  },
  {
   "cell_type": "code",
   "execution_count": 21,
   "metadata": {
    "colab": {
     "base_uri": "https://localhost:8080/"
    },
    "id": "Z4K-DJy-uCLZ",
    "outputId": "a564c482-aade-4c38-a41f-bdf3489ff779"
   },
   "outputs": [
    {
     "data": {
      "text/plain": [
       "<tf.Tensor: shape=(2, 768), dtype=float32, numpy=\n",
       "array([[-0.882144  , -0.27601558, -0.00157468, ...,  0.01501651,\n",
       "        -0.6400068 ,  0.913235  ],\n",
       "       [-0.88832706, -0.35758865, -0.43302548, ..., -0.08125669,\n",
       "        -0.64928794,  0.8898089 ]], dtype=float32)>"
      ]
     },
     "execution_count": 21,
     "metadata": {},
     "output_type": "execute_result"
    }
   ],
   "source": [
    "sentence_embeddings['pooled_output'] # this represents the embeddings for the entire sentence\n",
    "# this produces an embeddings vector of size 768"
   ]
  },
  {
   "cell_type": "code",
   "execution_count": 22,
   "metadata": {
    "colab": {
     "base_uri": "https://localhost:8080/"
    },
    "id": "74DtFU2cuRf0",
    "outputId": "59aa2047-9ae8-492e-f675-24ff2b4c74c0"
   },
   "outputs": [
    {
     "data": {
      "text/plain": [
       "<tf.Tensor: shape=(2, 128, 768), dtype=float32, numpy=\n",
       "array([[[-0.00413052,  0.3507993 , -0.098371  , ..., -0.19417861,\n",
       "          0.16171378,  0.27226844],\n",
       "        [-0.32959467,  0.49384812,  0.20249972, ...,  0.53534913,\n",
       "          0.5607405 , -0.5904846 ],\n",
       "        [ 0.02119199,  0.05949645,  0.4352878 , ..., -0.29770786,\n",
       "          0.09727587,  0.3044195 ],\n",
       "        ...,\n",
       "        [-0.27410454,  0.27356216,  0.25825542, ...,  0.2427294 ,\n",
       "         -0.09883431, -0.04255274],\n",
       "        [-0.2915065 ,  0.22782595,  0.33626673, ...,  0.19962136,\n",
       "         -0.06843841, -0.05779005],\n",
       "        [-0.20941599,  0.14267516,  0.397332  , ...,  0.17421186,\n",
       "         -0.07049121, -0.00233145]],\n",
       "\n",
       "       [[-0.3395212 ,  0.18880895, -0.24703833, ..., -0.19675605,\n",
       "          0.29928553,  0.3292455 ],\n",
       "        [ 0.15843871,  0.16222589,  0.03240399, ..., -0.26986608,\n",
       "          0.36997914, -0.08333258],\n",
       "        [-0.3375595 , -0.8983127 ,  0.14492732, ..., -0.53218114,\n",
       "          0.45118478,  0.6030057 ],\n",
       "        ...,\n",
       "        [-0.15516761,  0.20082708,  0.13116899, ...,  0.24156258,\n",
       "          0.06419481,  0.07515314],\n",
       "        [-0.14904901,  0.23137115,  0.23888001, ...,  0.12474529,\n",
       "          0.1034765 ,  0.0799364 ],\n",
       "        [-0.2918102 ,  0.08632328,  0.2722059 , ...,  0.1535922 ,\n",
       "          0.15177944, -0.03646848]]], dtype=float32)>"
      ]
     },
     "execution_count": 22,
     "metadata": {},
     "output_type": "execute_result"
    }
   ],
   "source": [
    "sentence_embeddings['sequence_output'] # this represents the embeddings of each of the individual words in each of the sentences\n",
    "# it is a tensor of dimension (number of sentences X max sentence length X feature vector)"
   ]
  },
  {
   "cell_type": "code",
   "execution_count": null,
   "metadata": {
    "id": "Ga19t04owsxZ"
   },
   "outputs": [],
   "source": [
    " "
   ]
  }
 ],
 "metadata": {
  "accelerator": "GPU",
  "colab": {
   "name": "Working with BERT.ipynb",
   "provenance": []
  },
  "gpuClass": "standard",
  "kernelspec": {
   "display_name": "Python 3 (ipykernel)",
   "language": "python",
   "name": "python3"
  },
  "language_info": {
   "codemirror_mode": {
    "name": "ipython",
    "version": 3
   },
   "file_extension": ".py",
   "mimetype": "text/x-python",
   "name": "python",
   "nbconvert_exporter": "python",
   "pygments_lexer": "ipython3",
   "version": "3.10.4"
  }
 },
 "nbformat": 4,
 "nbformat_minor": 1
}
