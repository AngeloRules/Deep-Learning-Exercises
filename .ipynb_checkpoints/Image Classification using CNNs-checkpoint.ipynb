{
 "cells": [
  {
   "cell_type": "code",
   "execution_count": 1,
   "id": "f8b8b2fe",
   "metadata": {},
   "outputs": [],
   "source": [
    "import numpy as np\n",
    "import pandas as pd\n",
    "import matplotlib.pyplot as plt\n",
    "%matplotlib inline"
   ]
  },
  {
   "cell_type": "code",
   "execution_count": 5,
   "id": "ee81fa2a",
   "metadata": {},
   "outputs": [],
   "source": [
    "import tensorflow as tf\n",
    "from tensorflow.keras import layers, models, datasets"
   ]
  },
  {
   "cell_type": "code",
   "execution_count": 35,
   "id": "b0250a1b",
   "metadata": {},
   "outputs": [],
   "source": [
    "from sklearn.metrics import classification_report"
   ]
  },
  {
   "cell_type": "code",
   "execution_count": 64,
   "id": "56fe6e5e",
   "metadata": {},
   "outputs": [],
   "source": [
    "(x_train,y_train),(x_test,y_yest) = datasets.cifar10.load_data()"
   ]
  },
  {
   "cell_type": "code",
   "execution_count": 65,
   "id": "66bab447",
   "metadata": {},
   "outputs": [
    {
     "data": {
      "text/plain": [
       "(50000, 32, 32, 3)"
      ]
     },
     "execution_count": 65,
     "metadata": {},
     "output_type": "execute_result"
    }
   ],
   "source": [
    "x_train.shape"
   ]
  },
  {
   "cell_type": "code",
   "execution_count": 9,
   "id": "47177634",
   "metadata": {},
   "outputs": [
    {
     "data": {
      "text/plain": [
       "(10000, 32, 32, 3)"
      ]
     },
     "execution_count": 9,
     "metadata": {},
     "output_type": "execute_result"
    }
   ],
   "source": [
    "x_test.shape"
   ]
  },
  {
   "cell_type": "code",
   "execution_count": 15,
   "id": "a9ba5ef1",
   "metadata": {},
   "outputs": [
    {
     "data": {
      "text/plain": [
       "<matplotlib.image.AxesImage at 0x247cc443250>"
      ]
     },
     "execution_count": 15,
     "metadata": {},
     "output_type": "execute_result"
    },
    {
     "data": {
      "image/png": "[encoded data removed]",
      "text/plain": [
       "<Figure size 720x144 with 1 Axes>"
      ]
     },
     "metadata": {
      "needs_background": "light"
     },
     "output_type": "display_data"
    }
   ],
   "source": [
    "plt.figure(figsize=(10,2))\n",
    "plt.imshow(x_train[5])"
   ]
  },
  {
   "cell_type": "code",
   "execution_count": 68,
   "id": "4c61b3ca",
   "metadata": {},
   "outputs": [],
   "source": [
    "y_train = y_train.reshape(-1,)"
   ]
  },
  {
   "cell_type": "code",
   "execution_count": 67,
   "id": "62ff61b9",
   "metadata": {},
   "outputs": [],
   "source": [
    "classes = ['airplane','automobile','bird','cat','deer','dog','frog','horse','ship','truck']"
   ]
  },
  {
   "cell_type": "code",
   "execution_count": 19,
   "id": "5f68c10d",
   "metadata": {},
   "outputs": [],
   "source": [
    "def sample_plotter(x_size,y_size,index):\n",
    "    \"\"\"\n",
    "    Function to plot the various samples given an index\n",
    "    \"\"\"\n",
    "    plt.figure(figsize=(x_size,y_size))\n",
    "    plt.imshow(x_train[index])\n",
    "    plt.xlabel(classes[y_train[index]])"
   ]
  },
  {
   "cell_type": "code",
   "execution_count": 69,
   "id": "c88f69a5",
   "metadata": {},
   "outputs": [
    {
     "data": {
      "image/png": "[encoded data removed]",
      "text/plain": [
       "<Figure size 720x144 with 1 Axes>"
      ]
     },
     "metadata": {
      "needs_background": "light"
     },
     "output_type": "display_data"
    }
   ],
   "source": [
    "sample_plotter(10,2,4)"
   ]
  },
  {
   "cell_type": "code",
   "execution_count": 27,
   "id": "a9ac61cf",
   "metadata": {},
   "outputs": [
    {
     "data": {
      "text/plain": [
       "array([[[0.23137255, 0.24313725, 0.24705882],\n",
       "        [0.16862745, 0.18039216, 0.17647059],\n",
       "        [0.19607843, 0.18823529, 0.16862745],\n",
       "        ...,\n",
       "        [0.61960784, 0.51764706, 0.42352941],\n",
       "        [0.59607843, 0.49019608, 0.4       ],\n",
       "        [0.58039216, 0.48627451, 0.40392157]],\n",
       "\n",
       "       [[0.0627451 , 0.07843137, 0.07843137],\n",
       "        [0.        , 0.        , 0.        ],\n",
       "        [0.07058824, 0.03137255, 0.        ],\n",
       "        ...,\n",
       "        [0.48235294, 0.34509804, 0.21568627],\n",
       "        [0.46666667, 0.3254902 , 0.19607843],\n",
       "        [0.47843137, 0.34117647, 0.22352941]],\n",
       "\n",
       "       [[0.09803922, 0.09411765, 0.08235294],\n",
       "        [0.0627451 , 0.02745098, 0.        ],\n",
       "        [0.19215686, 0.10588235, 0.03137255],\n",
       "        ...,\n",
       "        [0.4627451 , 0.32941176, 0.19607843],\n",
       "        [0.47058824, 0.32941176, 0.19607843],\n",
       "        [0.42745098, 0.28627451, 0.16470588]],\n",
       "\n",
       "       ...,\n",
       "\n",
       "       [[0.81568627, 0.66666667, 0.37647059],\n",
       "        [0.78823529, 0.6       , 0.13333333],\n",
       "        [0.77647059, 0.63137255, 0.10196078],\n",
       "        ...,\n",
       "        [0.62745098, 0.52156863, 0.2745098 ],\n",
       "        [0.21960784, 0.12156863, 0.02745098],\n",
       "        [0.20784314, 0.13333333, 0.07843137]],\n",
       "\n",
       "       [[0.70588235, 0.54509804, 0.37647059],\n",
       "        [0.67843137, 0.48235294, 0.16470588],\n",
       "        [0.72941176, 0.56470588, 0.11764706],\n",
       "        ...,\n",
       "        [0.72156863, 0.58039216, 0.36862745],\n",
       "        [0.38039216, 0.24313725, 0.13333333],\n",
       "        [0.3254902 , 0.20784314, 0.13333333]],\n",
       "\n",
       "       [[0.69411765, 0.56470588, 0.45490196],\n",
       "        [0.65882353, 0.50588235, 0.36862745],\n",
       "        [0.70196078, 0.55686275, 0.34117647],\n",
       "        ...,\n",
       "        [0.84705882, 0.72156863, 0.54901961],\n",
       "        [0.59215686, 0.4627451 , 0.32941176],\n",
       "        [0.48235294, 0.36078431, 0.28235294]]])"
      ]
     },
     "execution_count": 27,
     "metadata": {},
     "output_type": "execute_result"
    }
   ],
   "source": [
    "x_train = x_train/255\n",
    "x_test = x_test/255\n",
    "x_train[0]"
   ]
  },
  {
   "cell_type": "markdown",
   "id": "b21bb61b",
   "metadata": {},
   "source": [
    "**Using a traditional ANN**"
   ]
  },
  {
   "cell_type": "code",
   "execution_count": 30,
   "id": "fe59e95c",
   "metadata": {},
   "outputs": [
    {
     "name": "stdout",
     "output_type": "stream",
     "text": [
      "Epoch 1/5\n",
      "1563/1563 [==============================] - 446s 157ms/step - loss: 1.8108 - accuracy: 0.3536\n",
      "Epoch 2/5\n",
      "1563/1563 [==============================] - 249s 159ms/step - loss: 1.6226 - accuracy: 0.4258\n",
      "Epoch 3/5\n",
      "1563/1563 [==============================] - 249s 160ms/step - loss: 1.5418 - accuracy: 0.4554\n",
      "Epoch 4/5\n",
      "1563/1563 [==============================] - 251s 161ms/step - loss: 1.4806 - accuracy: 0.4760\n",
      "Epoch 5/5\n",
      "1563/1563 [==============================] - 252s 162ms/step - loss: 1.4302 - accuracy: 0.4947\n"
     ]
    },
    {
     "data": {
      "text/plain": [
       "<keras.callbacks.History at 0x247bf3d2530>"
      ]
     },
     "execution_count": 30,
     "metadata": {},
     "output_type": "execute_result"
    }
   ],
   "source": [
    "ANN = models.Sequential([\n",
    "    layers.Flatten(input_shape=(32,32,3)),\n",
    "    layers.Dense(3000,activation='relu'),\n",
    "    layers.Dense(1000,activation='relu'),\n",
    "    layers.Dense(10,activation='sigmoid')\n",
    "])\n",
    "\n",
    "ANN.compile(\n",
    "    metrics = ['accuracy'],\n",
    "    loss = 'sparse_categorical_crossentropy',\n",
    "    optimizer = 'SGD'\n",
    ")\n",
    "\n",
    "ANN.fit(x_train,y_train,epochs=5)"
   ]
  },
  {
   "cell_type": "code",
   "execution_count": 33,
   "id": "e5cd752c",
   "metadata": {},
   "outputs": [
    {
     "name": "stdout",
     "output_type": "stream",
     "text": [
      "313/313 [==============================] - 36s 45ms/step - loss: 1.4816 - accuracy: 0.4727\n"
     ]
    },
    {
     "data": {
      "text/plain": [
       "[1.4815876483917236, 0.47269999980926514]"
      ]
     },
     "execution_count": 33,
     "metadata": {},
     "output_type": "execute_result"
    }
   ],
   "source": [
    "ANN.evaluate(x_test,y_yest)"
   ]
  },
  {
   "cell_type": "code",
   "execution_count": 36,
   "id": "a4b8ddd6",
   "metadata": {},
   "outputs": [
    {
     "name": "stdout",
     "output_type": "stream",
     "text": [
      "313/313 [==============================] - 17s 49ms/step\n"
     ]
    }
   ],
   "source": [
    "predictions = ANN.predict(x_test)"
   ]
  },
  {
   "cell_type": "code",
   "execution_count": 41,
   "id": "8f8cf704",
   "metadata": {},
   "outputs": [],
   "source": [
    "predictions_list = [np.argmax(i) for i in predictions]"
   ]
  },
  {
   "cell_type": "code",
   "execution_count": 44,
   "id": "8326b114",
   "metadata": {},
   "outputs": [
    {
     "name": "stdout",
     "output_type": "stream",
     "text": [
      "              precision    recall  f1-score   support\n",
      "\n",
      "           0       0.60      0.48      0.53      1000\n",
      "           1       0.52      0.73      0.61      1000\n",
      "           2       0.29      0.55      0.38      1000\n",
      "           3       0.32      0.40      0.35      1000\n",
      "           4       0.45      0.31      0.37      1000\n",
      "           5       0.40      0.36      0.38      1000\n",
      "           6       0.55      0.48      0.51      1000\n",
      "           7       0.59      0.50      0.54      1000\n",
      "           8       0.70      0.53      0.60      1000\n",
      "           9       0.69      0.39      0.50      1000\n",
      "\n",
      "    accuracy                           0.47     10000\n",
      "   macro avg       0.51      0.47      0.48     10000\n",
      "weighted avg       0.51      0.47      0.48     10000\n",
      "\n"
     ]
    }
   ],
   "source": [
    "print(classification_report(y_yest,predictions_list))"
   ]
  },
  {
   "cell_type": "markdown",
   "id": "4e129e0e",
   "metadata": {},
   "source": [
    "**Using a Convolutional Neural Network**"
   ]
  },
  {
   "cell_type": "code",
   "execution_count": 50,
   "id": "187c81c5",
   "metadata": {},
   "outputs": [],
   "source": [
    "CNN = models.Sequential([\n",
    "    #cnn half\n",
    "    layers.Conv2D(input_shape=(32,32,3),activation='relu',kernel_size=(3,3),filters=32),\n",
    "    layers.MaxPooling2D((2,2)),\n",
    "    layers.Conv2D(input_shape=(32,32,3),activation='relu',kernel_size=(3,3),filters=64),\n",
    "    layers.MaxPooling2D((2,2)),\n",
    "    \n",
    "    #dense part\n",
    "    layers.Flatten(),\n",
    "    layers.Dense(64,activation='relu'),\n",
    "    layers.Dense(10,activation='softmax')\n",
    "])"
   ]
  },
  {
   "cell_type": "code",
   "execution_count": 52,
   "id": "c4107c14",
   "metadata": {},
   "outputs": [],
   "source": [
    "CNN.compile(\n",
    "    metrics = ['accuracy'],\n",
    "    loss = 'sparse_categorical_crossentropy',\n",
    "    optimizer = 'SGD'\n",
    ")"
   ]
  },
  {
   "cell_type": "code",
   "execution_count": 55,
   "id": "07193aee",
   "metadata": {},
   "outputs": [
    {
     "name": "stdout",
     "output_type": "stream",
     "text": [
      "Epoch 1/10\n",
      "1563/1563 [==============================] - 128s 71ms/step - loss: 1.1541 - accuracy: 0.5981\n",
      "Epoch 2/10\n",
      "1563/1563 [==============================] - 108s 69ms/step - loss: 1.0959 - accuracy: 0.6165\n",
      "Epoch 3/10\n",
      "1563/1563 [==============================] - 108s 69ms/step - loss: 1.0465 - accuracy: 0.6332\n",
      "Epoch 4/10\n",
      "1563/1563 [==============================] - 108s 69ms/step - loss: 1.0028 - accuracy: 0.6512\n",
      "Epoch 5/10\n",
      "1563/1563 [==============================] - 108s 69ms/step - loss: 0.9653 - accuracy: 0.6636\n",
      "Epoch 6/10\n",
      "1563/1563 [==============================] - 108s 69ms/step - loss: 0.9297 - accuracy: 0.6764\n",
      "Epoch 7/10\n",
      "1563/1563 [==============================] - 109s 70ms/step - loss: 0.8947 - accuracy: 0.6891\n",
      "Epoch 8/10\n",
      "1563/1563 [==============================] - 109s 70ms/step - loss: 0.8638 - accuracy: 0.7003\n",
      "Epoch 9/10\n",
      "1563/1563 [==============================] - 110s 70ms/step - loss: 0.8360 - accuracy: 0.7087\n",
      "Epoch 10/10\n",
      "1563/1563 [==============================] - 108s 69ms/step - loss: 0.8078 - accuracy: 0.7206\n"
     ]
    },
    {
     "data": {
      "text/plain": [
       "<keras.callbacks.History at 0x247c2d41a80>"
      ]
     },
     "execution_count": 55,
     "metadata": {},
     "output_type": "execute_result"
    }
   ],
   "source": [
    "CNN.fit(x_train,y_train,epochs=10)"
   ]
  },
  {
   "cell_type": "code",
   "execution_count": 57,
   "id": "577548a9",
   "metadata": {},
   "outputs": [
    {
     "name": "stdout",
     "output_type": "stream",
     "text": [
      "313/313 [==============================] - 35s 24ms/step - loss: 0.9627 - accuracy: 0.6738\n"
     ]
    },
    {
     "data": {
      "text/plain": [
       "[0.9626564383506775, 0.673799991607666]"
      ]
     },
     "execution_count": 57,
     "metadata": {},
     "output_type": "execute_result"
    }
   ],
   "source": [
    "CNN.evaluate(x_test,y_yest)"
   ]
  },
  {
   "cell_type": "code",
   "execution_count": 58,
   "id": "47542e5e",
   "metadata": {},
   "outputs": [
    {
     "name": "stdout",
     "output_type": "stream",
     "text": [
      "313/313 [==============================] - 9s 24ms/step\n"
     ]
    }
   ],
   "source": [
    "predictions = CNN.predict(x_test)"
   ]
  },
  {
   "cell_type": "code",
   "execution_count": 59,
   "id": "89b0b256",
   "metadata": {},
   "outputs": [],
   "source": [
    "prediction = [np.argmax(i) for i in predictions]"
   ]
  },
  {
   "cell_type": "code",
   "execution_count": 62,
   "id": "4dc6aa95",
   "metadata": {},
   "outputs": [
    {
     "name": "stdout",
     "output_type": "stream",
     "text": [
      "              precision    recall  f1-score   support\n",
      "\n",
      "           0       0.73      0.71      0.72      1000\n",
      "           1       0.84      0.70      0.77      1000\n",
      "           2       0.72      0.40      0.51      1000\n",
      "           3       0.49      0.53      0.51      1000\n",
      "           4       0.58      0.67      0.62      1000\n",
      "           5       0.59      0.57      0.58      1000\n",
      "           6       0.70      0.80      0.75      1000\n",
      "           7       0.74      0.71      0.72      1000\n",
      "           8       0.68      0.87      0.77      1000\n",
      "           9       0.73      0.77      0.75      1000\n",
      "\n",
      "    accuracy                           0.67     10000\n",
      "   macro avg       0.68      0.67      0.67     10000\n",
      "weighted avg       0.68      0.67      0.67     10000\n",
      "\n"
     ]
    }
   ],
   "source": [
    "print(classification_report(y_yest,prediction))"
   ]
  },
  {
   "cell_type": "code",
   "execution_count": null,
   "id": "6503c708",
   "metadata": {},
   "outputs": [],
   "source": []
  }
 ],
 "metadata": {
  "kernelspec": {
   "display_name": "Python 3 (ipykernel)",
   "language": "python",
   "name": "python3"
  },
  "language_info": {
   "codemirror_mode": {
    "name": "ipython",
    "version": 3
   },
   "file_extension": ".py",
   "mimetype": "text/x-python",
   "name": "python",
   "nbconvert_exporter": "python",
   "pygments_lexer": "ipython3",
   "version": "3.10.4"
  }
 },
 "nbformat": 4,
 "nbformat_minor": 5
}
