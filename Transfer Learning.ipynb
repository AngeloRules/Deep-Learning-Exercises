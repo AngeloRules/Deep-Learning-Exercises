{
  "cells": [
    {
      "cell_type": "code",
      "execution_count": 1,
      "id": "d64b2673",
      "metadata": {
        "id": "d64b2673"
      },
      "outputs": [],
      "source": [
        "import numpy as np\n",
        "import pandas as pd\n",
        "import matplotlib.pyplot as plt\n",
        "%matplotlib inline"
      ]
    },
    {
      "cell_type": "code",
      "execution_count": 2,
      "id": "38fffd7d",
      "metadata": {
        "id": "38fffd7d"
      },
      "outputs": [],
      "source": [
        "import tensorflow as tf\n",
        "from tensorflow import keras"
      ]
    },
    {
      "cell_type": "code",
      "execution_count": 3,
      "id": "efc3d1c5",
      "metadata": {
        "id": "efc3d1c5"
      },
      "outputs": [],
      "source": [
        "import tensorflow_hub as hub\n",
        "from tensorflow.keras.models import Sequential\n",
        "from tensorflow.keras import layers"
      ]
    },
    {
      "cell_type": "code",
      "execution_count": 4,
      "id": "897c63b6",
      "metadata": {
        "id": "897c63b6"
      },
      "outputs": [],
      "source": [
        "import PIL.Image as Image\n",
        "import cv2\n",
        "import os"
      ]
    },
    {
      "cell_type": "markdown",
      "id": "b6481b42",
      "metadata": {
        "id": "b6481b42"
      },
      "source": [
        "**Downloading the already trained model from tensorflow_hub**"
      ]
    },
    {
      "cell_type": "code",
      "execution_count": 5,
      "id": "183d0e1b",
      "metadata": {
        "id": "183d0e1b"
      },
      "outputs": [],
      "source": [
        "classifier = tf.keras.Sequential([\n",
        "    hub.KerasLayer(\"https://tfhub.dev/google/tf2-preview/mobilenet_v2/classification/4\",input_shape=(224,224,3))\n",
        "])"
      ]
    },
    {
      "cell_type": "code",
      "execution_count": 6,
      "id": "1e37eac4",
      "metadata": {
        "id": "1e37eac4"
      },
      "outputs": [],
      "source": [
        "data_source = 'https://storage.googleapis.com/download.tensorflow.org/example_images/flower_photos.tgz'\n",
        "flowers_data = tf.keras.utils.get_file('flower_photos',origin=data_source,cache_dir='.',untar=True)"
      ]
    },
    {
      "cell_type": "code",
      "execution_count": 7,
      "id": "417ffb44",
      "metadata": {
        "id": "417ffb44"
      },
      "outputs": [],
      "source": [
        "import pathlib"
      ]
    },
    {
      "cell_type": "code",
      "execution_count": 8,
      "id": "baa0f95e",
      "metadata": {
        "id": "baa0f95e"
      },
      "outputs": [],
      "source": [
        "flowers_data = pathlib.Path(flowers_data)"
      ]
    },
    {
      "cell_type": "code",
      "execution_count": 9,
      "id": "6cc8bb29",
      "metadata": {
        "colab": {
          "base_uri": "https://localhost:8080/"
        },
        "id": "6cc8bb29",
        "outputId": "f11e60f8-fe1e-49c8-f423-0a1a22dbf50f"
      },
      "outputs": [
        {
          "output_type": "execute_result",
          "data": {
            "text/plain": [
              "3670"
            ]
          },
          "metadata": {},
          "execution_count": 9
        }
      ],
      "source": [
        "len(list(flowers_data.glob('*/*.jpg')))"
      ]
    },
    {
      "cell_type": "code",
      "execution_count": 9,
      "id": "82019c3e",
      "metadata": {
        "id": "82019c3e"
      },
      "outputs": [],
      "source": [
        "flower_images_dict = {\n",
        "    'dandelion': list(flowers_data.glob('dandelion/*')),\n",
        "    'roses': list(flowers_data.glob('roses/*')),\n",
        "    'tulips': list(flowers_data.glob('tulips/*')),\n",
        "    'sunflowers': list(flowers_data.glob('sunflowers/*')),\n",
        "    'daisy': list(flowers_data.glob('daisy/*')),\n",
        "}"
      ]
    },
    {
      "cell_type": "code",
      "execution_count": 10,
      "id": "a1cc5e94",
      "metadata": {
        "id": "a1cc5e94"
      },
      "outputs": [],
      "source": [
        "flower_dict_labels = {\n",
        "    'dandelion':0,\n",
        "    'roses':1,\n",
        "    'tulips':2,\n",
        "    'sunflowers':3,\n",
        "    'daisy':4\n",
        "}"
      ]
    },
    {
      "cell_type": "code",
      "execution_count": 11,
      "id": "335671d0",
      "metadata": {
        "id": "335671d0"
      },
      "outputs": [],
      "source": [
        "x,y = [],[]\n",
        "\n",
        "for flower_name,images in flower_images_dict.items():\n",
        "  for image in images:\n",
        "    img = cv2.imread(str(image))\n",
        "    resized_image = cv2.resize(img,(224,224))\n",
        "    x.append(resized_image)\n",
        "    y.append(flower_dict_labels[flower_name])"
      ]
    },
    {
      "cell_type": "code",
      "execution_count": 12,
      "id": "e3b57516",
      "metadata": {
        "id": "e3b57516"
      },
      "outputs": [],
      "source": [
        "from sklearn.model_selection import train_test_split"
      ]
    },
    {
      "cell_type": "code",
      "execution_count": 13,
      "id": "5abfffbf",
      "metadata": {
        "id": "5abfffbf"
      },
      "outputs": [],
      "source": [
        "x = np.array(x)\n",
        "y = np.array(y) "
      ]
    },
    {
      "cell_type": "code",
      "execution_count": 14,
      "id": "0f940590",
      "metadata": {
        "id": "0f940590"
      },
      "outputs": [],
      "source": [
        "x_train,x_test,y_train,y_test = train_test_split(x,y,test_size=0.2,random_state=0)"
      ]
    },
    {
      "cell_type": "code",
      "execution_count": 15,
      "id": "b2eb7e8e",
      "metadata": {
        "id": "b2eb7e8e"
      },
      "outputs": [],
      "source": [
        "x_train_scaled = np.divide(x_train,255)\n",
        "x_test_scaled = np.divide(x_test,255)"
      ]
    },
    {
      "cell_type": "markdown",
      "source": [
        "**We create download a model without the last layer i.e the feature vectors**"
      ],
      "metadata": {
        "id": "awFpiIG1645B"
      },
      "id": "awFpiIG1645B"
    },
    {
      "cell_type": "code",
      "source": [
        "feature_vector = hub.KerasLayer(\"https://tfhub.dev/google/tf2-preview/mobilenet_v2/feature_vector/4\",input_shape=(224,224,3),trainable=False)"
      ],
      "metadata": {
        "id": "557KFDUx6EVH"
      },
      "id": "557KFDUx6EVH",
      "execution_count": 16,
      "outputs": []
    },
    {
      "cell_type": "code",
      "source": [
        "model = tf.keras.Sequential([\n",
        "    feature_vector,\n",
        "    tf.keras.layers.Dense(5)\n",
        "])\n"
      ],
      "metadata": {
        "id": "DbWQeUuw7YOl"
      },
      "id": "DbWQeUuw7YOl",
      "execution_count": 17,
      "outputs": []
    },
    {
      "cell_type": "code",
      "source": [
        "model.summary()"
      ],
      "metadata": {
        "colab": {
          "base_uri": "https://localhost:8080/"
        },
        "id": "7KjuiM-b8B6w",
        "outputId": "aded6d26-fb2d-4986-d0a9-d97320f18a36"
      },
      "id": "7KjuiM-b8B6w",
      "execution_count": 21,
      "outputs": [
        {
          "output_type": "stream",
          "name": "stdout",
          "text": [
            "Model: \"sequential_1\"\n",
            "_________________________________________________________________\n",
            " Layer (type)                Output Shape              Param #   \n",
            "=================================================================\n",
            " keras_layer_1 (KerasLayer)  (None, 1280)              2257984   \n",
            "                                                                 \n",
            " dense (Dense)               (None, 5)                 6405      \n",
            "                                                                 \n",
            "=================================================================\n",
            "Total params: 2,264,389\n",
            "Trainable params: 6,405\n",
            "Non-trainable params: 2,257,984\n",
            "_________________________________________________________________\n"
          ]
        }
      ]
    },
    {
      "cell_type": "code",
      "source": [
        "model.compile(\n",
        "    optimizer='adam',\n",
        "    metrics =['accuracy'],\n",
        "    loss = tf.keras.losses.SparseCategoricalCrossentropy(from_logits=True)\n",
        ")"
      ],
      "metadata": {
        "id": "ilOtsEGQ8KF2"
      },
      "id": "ilOtsEGQ8KF2",
      "execution_count": 18,
      "outputs": []
    },
    {
      "cell_type": "code",
      "source": [
        "model.fit(x_train_scaled,y_train,epochs=5)"
      ],
      "metadata": {
        "colab": {
          "base_uri": "https://localhost:8080/"
        },
        "id": "R4dvzR008QXB",
        "outputId": "30159d00-6f9e-41f7-a56d-107903096f87"
      },
      "id": "R4dvzR008QXB",
      "execution_count": 19,
      "outputs": [
        {
          "output_type": "stream",
          "name": "stdout",
          "text": [
            "Epoch 1/5\n",
            "92/92 [==============================] - 17s 46ms/step - loss: 0.7421 - accuracy: 0.7340\n",
            "Epoch 2/5\n",
            "92/92 [==============================] - 4s 45ms/step - loss: 0.3822 - accuracy: 0.8747\n",
            "Epoch 3/5\n",
            "92/92 [==============================] - 4s 43ms/step - loss: 0.3026 - accuracy: 0.9040\n",
            "Epoch 4/5\n",
            "92/92 [==============================] - 4s 42ms/step - loss: 0.2494 - accuracy: 0.9281\n",
            "Epoch 5/5\n",
            "92/92 [==============================] - 4s 43ms/step - loss: 0.2179 - accuracy: 0.9394\n"
          ]
        },
        {
          "output_type": "execute_result",
          "data": {
            "text/plain": [
              "<keras.callbacks.History at 0x7f74a8390c50>"
            ]
          },
          "metadata": {},
          "execution_count": 19
        }
      ]
    },
    {
      "cell_type": "code",
      "source": [
        ""
      ],
      "metadata": {
        "id": "UN54iWnf8gBc"
      },
      "id": "UN54iWnf8gBc",
      "execution_count": null,
      "outputs": []
    }
  ],
  "metadata": {
    "kernelspec": {
      "display_name": "Python 3 (ipykernel)",
      "language": "python",
      "name": "python3"
    },
    "language_info": {
      "codemirror_mode": {
        "name": "ipython",
        "version": 3
      },
      "file_extension": ".py",
      "mimetype": "text/x-python",
      "name": "python",
      "nbconvert_exporter": "python",
      "pygments_lexer": "ipython3",
      "version": "3.10.4"
    },
    "colab": {
      "name": "Transfer Learning.ipynb",
      "provenance": []
    },
    "accelerator": "GPU",
    "gpuClass": "standard"
  },
  "nbformat": 4,
  "nbformat_minor": 5
}