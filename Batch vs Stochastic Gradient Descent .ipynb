{
 "cells": [
  {
   "cell_type": "code",
   "execution_count": 1,
   "id": "1286b9a2",
   "metadata": {},
   "outputs": [],
   "source": [
    "import numpy as np\n",
    "import pandas as pd\n",
    "import matplotlib.pyplot as plt\n",
    "%matplotlib inline"
   ]
  },
  {
   "cell_type": "code",
   "execution_count": 4,
   "id": "feb7a342",
   "metadata": {},
   "outputs": [],
   "source": [
    "from sklearn.preprocessing import MinMaxScaler"
   ]
  },
  {
   "cell_type": "code",
   "execution_count": 2,
   "id": "85a25e6e",
   "metadata": {},
   "outputs": [],
   "source": [
    "houses = pd.read_csv('/Users/user/Desktop/Deep Learning Exercises/house-prices.csv')"
   ]
  },
  {
   "cell_type": "code",
   "execution_count": 3,
   "id": "983364c5",
   "metadata": {},
   "outputs": [
    {
     "name": "stdout",
     "output_type": "stream",
     "text": [
      "<class 'pandas.core.frame.DataFrame'>\n",
      "RangeIndex: 20 entries, 0 to 19\n",
      "Data columns (total 3 columns):\n",
      " #   Column    Non-Null Count  Dtype  \n",
      "---  ------    --------------  -----  \n",
      " 0   area      20 non-null     int64  \n",
      " 1   bedrooms  20 non-null     int64  \n",
      " 2   price     20 non-null     float64\n",
      "dtypes: float64(1), int64(2)\n",
      "memory usage: 608.0 bytes\n"
     ]
    }
   ],
   "source": [
    "houses.info()"
   ]
  },
  {
   "cell_type": "code",
   "execution_count": 103,
   "id": "dbc38001",
   "metadata": {},
   "outputs": [],
   "source": [
    "sx = MinMaxScaler()\n",
    "sy = MinMaxScaler()"
   ]
  },
  {
   "cell_type": "code",
   "execution_count": 104,
   "id": "0acea672",
   "metadata": {},
   "outputs": [],
   "source": [
    "scaled_x = sx.fit_transform(houses.drop('price',axis=1))\n",
    "scaled_y = sy.fit_transform(houses[['price']])"
   ]
  },
  {
   "cell_type": "code",
   "execution_count": 105,
   "id": "23dac48d",
   "metadata": {},
   "outputs": [
    {
     "data": {
      "text/plain": [
       "array([[0.05237037],\n",
       "       [0.65185185],\n",
       "       [0.22222222],\n",
       "       [0.31851852],\n",
       "       [0.14074074],\n",
       "       [0.04444444],\n",
       "       [0.76296296],\n",
       "       [0.91111111],\n",
       "       [0.13333333],\n",
       "       [1.        ],\n",
       "       [0.37037037],\n",
       "       [0.8       ],\n",
       "       [0.04444444],\n",
       "       [0.05925926],\n",
       "       [0.51111111],\n",
       "       [0.07407407],\n",
       "       [0.11851852],\n",
       "       [0.20740741],\n",
       "       [0.51851852],\n",
       "       [0.        ]])"
      ]
     },
     "execution_count": 105,
     "metadata": {},
     "output_type": "execute_result"
    }
   ],
   "source": [
    "scaled_y"
   ]
  },
  {
   "cell_type": "code",
   "execution_count": 106,
   "id": "2f4d2647",
   "metadata": {},
   "outputs": [],
   "source": [
    "def batch_gradient_descent(x, y_true, epoch,learning_rate=0.01):\n",
    "    number_of_features = x.shape[1]\n",
    "    weight = np.ones(shape=(number_of_features))\n",
    "    bias = 0\n",
    "    total_samples = x.shape[0]\n",
    "    cost_list = []\n",
    "    epoch_list = []\n",
    "    for i in range(epoch):\n",
    "        y_predicted = np.dot(weight, scaled_x.T) + bias\n",
    "        \n",
    "        weight_gradient = -(2/total_samples)*(x.T.dot(y_true-y_predicted)) \n",
    "        bias_gradient = -(2/total_samples)*np.sum(y_true-y_predicted)\n",
    "        \n",
    "        weight = weight -  learning_rate * weight_gradient\n",
    "        bias = bias - learning_rate * bias_gradient\n",
    "        \n",
    "        cost = np.mean(np.square(y_true-y_predicted))\n",
    "        \n",
    "        if i%10 == 0:\n",
    "            cost_list.append(cost)\n",
    "            epoch_list.append(i)\n",
    "        figure = plt.plot(epoch_list,cost_list)\n",
    "        plt.xlabel('Epochs')\n",
    "        plt.ylabel('Cost')\n",
    "    return figure, cost,bias,weight"
   ]
  },
  {
   "cell_type": "code",
   "execution_count": 107,
   "id": "472c5d92",
   "metadata": {},
   "outputs": [
    {
     "data": {
      "text/plain": [
       "[<matplotlib.lines.Line2D at 0x216337f3eb0>]"
      ]
     },
     "execution_count": 107,
     "metadata": {},
     "output_type": "execute_result"
    },
    {
     "data": {
      "image/png": "[encoded data removed]",
      "text/plain": [
       "<Figure size 432x288 with 1 Axes>"
      ]
     },
     "metadata": {
      "needs_background": "light"
     },
     "output_type": "display_data"
    }
   ],
   "source": [
    "figure,cost,bias,weight = batch_gradient_descent(scaled_x,scaled_y.reshape(scaled_y.shape[0],),1000)\n",
    "figure"
   ]
  },
  {
   "cell_type": "code",
   "execution_count": 96,
   "id": "f854c118",
   "metadata": {},
   "outputs": [
    {
     "data": {
      "text/plain": [
       "-0.17792104056392882"
      ]
     },
     "execution_count": 96,
     "metadata": {},
     "output_type": "execute_result"
    }
   ],
   "source": [
    "bias"
   ]
  },
  {
   "cell_type": "code",
   "execution_count": 108,
   "id": "4ca7d569",
   "metadata": {},
   "outputs": [],
   "source": [
    "def predict(area,bedroom,weight,bias):\n",
    "    scaled_x = sx.transform([[area,bedroom]])[0]\n",
    "    \n",
    "    scaled_price = weight[0] * scaled_x[0] + weight[1] * scaled_x[1] + bias\n",
    "    return sy.inverse_transform([[scaled_price]])[0][0]"
   ]
  },
  {
   "cell_type": "code",
   "execution_count": 109,
   "id": "d79adb9e",
   "metadata": {},
   "outputs": [
    {
     "name": "stderr",
     "output_type": "stream",
     "text": [
      "C:\\Users\\user\\AppData\\Local\\Programs\\Python\\Python310\\lib\\site-packages\\sklearn\\base.py:450: UserWarning: X does not have valid feature names, but MinMaxScaler was fitted with feature names\n",
      "  warnings.warn(\n"
     ]
    },
    {
     "data": {
      "text/plain": [
       "34.60197457980031"
      ]
     },
     "execution_count": 109,
     "metadata": {},
     "output_type": "execute_result"
    }
   ],
   "source": [
    "predict(1000,2,weight=weight,bias=bias)"
   ]
  },
  {
   "cell_type": "code",
   "execution_count": 110,
   "id": "732ece1b",
   "metadata": {},
   "outputs": [],
   "source": [
    "from random import randint"
   ]
  },
  {
   "cell_type": "code",
   "execution_count": 113,
   "id": "bbe09c9d",
   "metadata": {},
   "outputs": [],
   "source": [
    "def stochastic_gradient_descent(x, y_true, epoch,learning_rate=0.01):\n",
    "    number_of_features = x.shape[1]\n",
    "    weight = np.ones(shape=(number_of_features))\n",
    "    bias = 0\n",
    "    total_samples = x.shape[0]\n",
    "    cost_list = []\n",
    "    epoch_list = []\n",
    "    for i in range(epoch):\n",
    "        random_index = randint(0,total_samples-1)\n",
    "        sample_x = x[random_index]\n",
    "        sample_y = y_true[random_index]\n",
    "        y_predicted = np.dot(weight, sample_x.T) + bias\n",
    "        \n",
    "        weight_gradient = -(2/total_samples)*(sample_x.T.dot(sample_y-y_predicted)) \n",
    "        bias_gradient = -(2/total_samples)*np.sum(sample_y-y_predicted)\n",
    "        \n",
    "        weight = weight -  learning_rate * weight_gradient\n",
    "        bias = bias - learning_rate * bias_gradient\n",
    "        \n",
    "        cost = np.mean(np.square(sample_y-y_predicted))\n",
    "        \n",
    "        if i%100 == 0:\n",
    "            cost_list.append(cost)\n",
    "            epoch_list.append(i)\n",
    "        figure = plt.plot(epoch_list,cost_list)\n",
    "        plt.xlabel('Epochs')\n",
    "        plt.ylabel('Cost')\n",
    "    return figure, cost,bias,weight"
   ]
  },
  {
   "cell_type": "code",
   "execution_count": 114,
   "id": "249a4489",
   "metadata": {},
   "outputs": [
    {
     "data": {
      "text/plain": [
       "[<matplotlib.lines.Line2D at 0x2163c3f57b0>]"
      ]
     },
     "execution_count": 114,
     "metadata": {},
     "output_type": "execute_result"
    },
    {
     "data": {
      "image/png": "[encoded data removed]",
      "text/plain": [
       "<Figure size 432x288 with 1 Axes>"
      ]
     },
     "metadata": {
      "needs_background": "light"
     },
     "output_type": "display_data"
    }
   ],
   "source": [
    "figure,cost,bias,weight = stochastic_gradient_descent(scaled_x,scaled_y.reshape(scaled_y.shape[0],),10000)\n",
    "figure"
   ]
  }
 ],
 "metadata": {
  "kernelspec": {
   "display_name": "Python 3 (ipykernel)",
   "language": "python",
   "name": "python3"
  },
  "language_info": {
   "codemirror_mode": {
    "name": "ipython",
    "version": 3
   },
   "file_extension": ".py",
   "mimetype": "text/x-python",
   "name": "python",
   "nbconvert_exporter": "python",
   "pygments_lexer": "ipython3",
   "version": "3.10.4"
  }
 },
 "nbformat": 4,
 "nbformat_minor": 5
}
