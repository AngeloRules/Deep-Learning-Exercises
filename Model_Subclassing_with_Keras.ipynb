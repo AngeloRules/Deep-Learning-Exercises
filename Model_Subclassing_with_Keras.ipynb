{
  "cells": [
    {
      "cell_type": "code",
      "execution_count": 40,
      "metadata": {
        "id": "bwNxmu_-19Il"
      },
      "outputs": [],
      "source": [
        "import tensorflow as tf\n",
        "from tensorflow import keras"
      ]
    },
    {
      "cell_type": "code",
      "execution_count": 41,
      "metadata": {
        "id": "kKSKbWNY2Oci"
      },
      "outputs": [],
      "source": [
        "from tensorflow.keras import layers\n",
        "from tensorflow.keras.datasets import mnist"
      ]
    },
    {
      "cell_type": "code",
      "execution_count": null,
      "metadata": {
        "colab": {
          "base_uri": "https://localhost:8080/"
        },
        "id": "6yLF8moE2Z9J",
        "outputId": "ad344e28-807b-478c-b77b-1c6206f06f32"
      },
      "outputs": [
        {
          "name": "stdout",
          "output_type": "stream",
          "text": [
            "Downloading data from https://storage.googleapis.com/tensorflow/tf-keras-datasets/mnist.npz\n",
            "11493376/11490434 [==============================] - 0s 0us/step\n",
            "11501568/11490434 [==============================] - 0s 0us/step\n"
          ]
        }
      ],
      "source": [
        "(x_train,y_train),(x_test,y_test) =  mnist.load_data()"
      ]
    },
    {
      "cell_type": "code",
      "execution_count": null,
      "metadata": {
        "id": "6dZc5vRx2tiq"
      },
      "outputs": [],
      "source": [
        "x_train = x_train.reshape(-1,28,28,1).astype('float32')/255.0\n",
        "x_test = x_test.reshape(-1,28,28,1).astype('float32')/255.0"
      ]
    },
    {
      "cell_type": "code",
      "execution_count": null,
      "metadata": {
        "id": "fLhlk_922_Hj"
      },
      "outputs": [],
      "source": [
        "class CNNBlock(layers.Layer):\n",
        "  def __init__(self, out_channels,kernel_size=3,padding='same'):\n",
        "    super().__init__()\n",
        "    self.conv = layers.Conv2D(out_channels,kernel_size,padding=padding)\n",
        "    self.batch_norm = layers.BatchNormalization()\n",
        "\n",
        "  def call(self,input_tensor,training=False):\n",
        "    x = self.conv(input_tensor)\n",
        "    x = self.batch_norm(x)\n",
        "    x = tf.nn.relu(x)\n",
        "    return x\n",
        "\n",
        "\n",
        "class ResBlock(layers.Layer):\n",
        "  def __init__(self,channels):\n",
        "    super().__init__()\n",
        "    self.block1 = CNNBlock(channels[0])\n",
        "    self.block2 = CNNBlock(channels[1])\n",
        "    self.block3 = CNNBlock(channels[2])\n",
        "    self.pooling = layers.MaxPooling2D()\n",
        "    self.identity_mapping = layers.Conv2D(channels[1],kernel_size=(1,1),padding='same')\n",
        "\n",
        "  def call(self, input_tensor,training=False):\n",
        "    x = self.block1(input_tensor,training=training)\n",
        "    x = self.block2(x, training=training)\n",
        "    x = self.block3(x + self.identity_mapping(input_tensor), training=training)\n",
        "    return self.pooling(x)\n",
        "  \n",
        "\n",
        "class ResNetLike(keras.Model):\n",
        "  def __init__(self,num_classes=10):\n",
        "    super().__init__()  \n",
        "    self.conv1 = ResBlock([32,32,64])\n",
        "    self.conv2 = ResBlock([128,128,256])\n",
        "    self.conv3 = ResBlock([128,256,512])\n",
        "    self.pool = layers.GlobalAveragePooling2D()\n",
        "    self.classifier = layers.Dense(num_classes)\n",
        "\n",
        "  def call(self, input_tensor,training=False):\n",
        "    x = self.conv1(input_tensor, training=training)\n",
        "    x = self.conv2(x, training=training)\n",
        "    x = self.conv3(x, training=training)\n",
        "    x = self.pool(x)\n",
        "    return self.classifier(x)\n",
        "\n",
        "# here we created custom components that we can reuse in a model \n",
        "# above we have a template that can be reused in a Convolutional neural network...\n",
        "# ...consisting of convolutional layers, batch normalization(to speed up training)"
      ]
    },
    {
      "cell_type": "code",
      "execution_count": null,
      "metadata": {
        "colab": {
          "base_uri": "https://localhost:8080/"
        },
        "id": "dc0FosybiIzO",
        "outputId": "00259147-49b3-49d9-af35-fbb7cf88c561"
      },
      "outputs": [
        {
          "name": "stdout",
          "output_type": "stream",
          "text": [
            "Epoch 1/10\n",
            "938/938 [==============================] - 25s 24ms/step - loss: 0.0834 - accuracy: 0.9749\n",
            "Epoch 2/10\n",
            "938/938 [==============================] - 22s 24ms/step - loss: 0.0360 - accuracy: 0.9886\n",
            "Epoch 3/10\n",
            "938/938 [==============================] - 23s 24ms/step - loss: 0.0282 - accuracy: 0.9913\n",
            "Epoch 4/10\n",
            "938/938 [==============================] - 23s 24ms/step - loss: 0.0232 - accuracy: 0.9930\n",
            "Epoch 5/10\n",
            "938/938 [==============================] - 23s 25ms/step - loss: 0.0218 - accuracy: 0.9930\n",
            "Epoch 6/10\n",
            "938/938 [==============================] - 23s 25ms/step - loss: 0.0169 - accuracy: 0.9946\n",
            "Epoch 7/10\n",
            "938/938 [==============================] - 24s 25ms/step - loss: 0.0159 - accuracy: 0.9948\n",
            "Epoch 8/10\n",
            "938/938 [==============================] - 24s 25ms/step - loss: 0.0136 - accuracy: 0.9958\n",
            "Epoch 9/10\n",
            "938/938 [==============================] - 23s 25ms/step - loss: 0.0128 - accuracy: 0.9958\n",
            "Epoch 10/10\n",
            "938/938 [==============================] - 23s 25ms/step - loss: 0.0124 - accuracy: 0.9960\n"
          ]
        },
        {
          "data": {
            "text/plain": [
              "<keras.callbacks.History at 0x7f11246cc9d0>"
            ]
          },
          "execution_count": 36,
          "metadata": {},
          "output_type": "execute_result"
        }
      ],
      "source": [
        "model = ResNetLike(num_classes=10)\n",
        "model.compile(\n",
        "    optimizer='adam',\n",
        "    metrics = ['accuracy'],\n",
        "    loss = keras.losses.SparseCategoricalCrossentropy(from_logits=True)\n",
        ")\n",
        "\n",
        "model.fit(x_train,y_train,epochs=10,batch_size=64)"
      ]
    },
    {
      "cell_type": "code",
      "execution_count": null,
      "metadata": {
        "colab": {
          "base_uri": "https://localhost:8080/"
        },
        "id": "_QU_NswLjDH_",
        "outputId": "604b4334-6da6-4dd9-dc3e-d9b8ebb17dcc"
      },
      "outputs": [
        {
          "name": "stdout",
          "output_type": "stream",
          "text": [
            "313/313 [==============================] - 3s 7ms/step - loss: 0.0303 - accuracy: 0.9903\n"
          ]
        },
        {
          "data": {
            "text/plain": [
              "[0.030295638367533684, 0.9902999997138977]"
            ]
          },
          "execution_count": 37,
          "metadata": {},
          "output_type": "execute_result"
        }
      ],
      "source": [
        "model.evaluate(x_test,y_test)"
      ]
    },
    {
      "cell_type": "code",
      "execution_count": 45,
      "metadata": {
        "colab": {
          "base_uri": "https://localhost:8080/"
        },
        "id": "5RIt5hgol_jM",
        "outputId": "96561878-0ed6-48a1-950c-41ce95bdef77"
      },
      "outputs": [
        {
          "name": "stdout",
          "output_type": "stream",
          "text": [
            "Model: \"res_net_like_10\"\n",
            "_________________________________________________________________\n",
            " Layer (type)                Output Shape              Param #   \n",
            "=================================================================\n",
            " res_block_30 (ResBlock)     multiple                  28640     \n",
            "                                                                 \n",
            " res_block_31 (ResBlock)     multiple                  526976    \n",
            "                                                                 \n",
            " res_block_32 (ResBlock)     multiple                  1839744   \n",
            "                                                                 \n",
            " global_average_pooling2d_10  multiple                 0         \n",
            "  (GlobalAveragePooling2D)                                       \n",
            "                                                                 \n",
            " dense_16 (Dense)            multiple                  5130      \n",
            "                                                                 \n",
            "=================================================================\n",
            "Total params: 2,400,490\n",
            "Trainable params: 2,397,418\n",
            "Non-trainable params: 3,072\n",
            "_________________________________________________________________\n"
          ]
        }
      ],
      "source": [
        "model.summary()"
      ]
    },
    {
      "cell_type": "code",
      "execution_count": 46,
      "metadata": {
        "colab": {
          "base_uri": "https://localhost:8080/",
          "height": 77
        },
        "id": "Ktd4Hz-11Spk",
        "outputId": "14db97ba-7f9c-4b10-f2d6-f0e8446b6db6"
      },
      "outputs": [
        {
          "data": {
            "image/png": "[encoded data removed]",
            "text/plain": [
              "<IPython.core.display.Image object>"
            ]
          },
          "execution_count": 46,
          "metadata": {},
          "output_type": "execute_result"
        }
      ],
      "source": [
        "tf.keras.utils.plot_model(model, to_file='model.png',show_shapes=True,show_layer_names=True)"
      ]
    },
    {
      "cell_type": "code",
      "execution_count": null,
      "metadata": {
        "id": "WYACCzVF2qaP"
      },
      "outputs": [],
      "source": []
    }
  ],
  "metadata": {
    "accelerator": "GPU",
    "colab": {
      "provenance": []
    },
    "kernelspec": {
      "display_name": "Python 3.10.4 64-bit",
      "language": "python",
      "name": "python3"
    },
    "language_info": {
      "name": "python",
      "version": "3.10.4"
    },
    "vscode": {
      "interpreter": {
        "hash": "fb4569285eef3a3450cb62085a5b1e0da4bce0af555edc33dcf29baf3acc1368"
      }
    }
  },
  "nbformat": 4,
  "nbformat_minor": 0
}
